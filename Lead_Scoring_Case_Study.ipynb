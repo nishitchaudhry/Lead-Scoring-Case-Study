{
 "cells": [
  {
   "cell_type": "markdown",
   "metadata": {
    "id": "AG22FiNS_F-u"
   },
   "source": [
    "# **LEAD SCORING CASE STUDY**"
   ]
  },
  {
   "cell_type": "markdown",
   "metadata": {},
   "source": [
    "## **Problem Statement**"
   ]
  },
  {
   "cell_type": "markdown",
   "metadata": {},
   "source": [
    "An education company named X Education sells online courses to industry professionals. On any given day, many professionals who are interested in the courses land on their website and browse for courses. \n",
    "\n",
    " \n",
    "\n",
    "The company markets its courses on several websites and search engines like Google. Once these people land on the website, they might browse the courses or fill up a form for the course or watch some videos. When these people fill up a form providing their email address or phone number, they are classified to be a lead. Moreover, the company also gets leads through past referrals. Once these leads are acquired, employees from the sales team start making calls, writing emails, etc. Through this process, some of the leads get converted while most do not. The typical lead conversion rate at X education is around 30%. \n",
    "\n",
    " \n",
    "\n",
    "Now, although X Education gets a lot of leads, its lead conversion rate is very poor. For example, if, say, they acquire 100 leads in a day, only about 30 of them are converted. To make this process more efficient, the company wishes to identify the most potential leads, also known as ‘Hot Leads’. If they successfully identify this set of leads, the lead conversion rate should go up as the sales team will now be focusing more on communicating with the potential leads rather than making calls to everyone."
   ]
  },
  {
   "cell_type": "markdown",
   "metadata": {
    "id": "rozokwRulTef"
   },
   "source": [
    "## **Objective**\n",
    "Build a logistic regression model to assign a lead score between 0 and 100 to each of the leads which can be used by the company to target potential leads. A higher score would mean that the lead is hot, i.e. is most likely to convert whereas a lower score would mean that the lead is cold and will mostly not get converted.\n",
    "\n",
    "## **Steps**\n",
    "1. Reading and Understanding the Dataset\n",
    "2. Data Preprocessing\n",
    "3. Exploratory Data Analysis\n",
    "4. Data Preparation\n",
    "5. Model Building"
   ]
  },
  {
   "cell_type": "markdown",
   "metadata": {
    "id": "ugJv9PB4radJ"
   },
   "source": [
    "# **1. Reading and Understanding the Dataset** "
   ]
  },
  {
   "cell_type": "code",
   "execution_count": 1,
   "metadata": {
    "id": "uejcASrvk84r"
   },
   "outputs": [],
   "source": [
    "# Importing libraries\n",
    "import pandas as pd\n",
    "import matplotlib.pyplot as plt\n",
    "import numpy as np\n",
    "import seaborn as sns\n",
    "import warnings\n",
    "\n",
    "%matplotlib inline\n",
    "\n",
    "pd.set_option(\"display.max_rows\", None,\"display.max_columns\", None)\n",
    "warnings.simplefilter(action='ignore')\n",
    "plt.style.use('seaborn')"
   ]
  },
  {
   "cell_type": "code",
   "execution_count": 3,
   "metadata": {
    "colab": {
     "base_uri": "https://localhost:8080/",
     "height": 522
    },
    "id": "OI_wKOkEl4iN",
    "outputId": "9386bf6d-00a5-4efe-cb95-da060bd16502"
   },
   "outputs": [
    {
     "data": {
      "text/html": [
       "<div>\n",
       "<style scoped>\n",
       "    .dataframe tbody tr th:only-of-type {\n",
       "        vertical-align: middle;\n",
       "    }\n",
       "\n",
       "    .dataframe tbody tr th {\n",
       "        vertical-align: top;\n",
       "    }\n",
       "\n",
       "    .dataframe thead th {\n",
       "        text-align: right;\n",
       "    }\n",
       "</style>\n",
       "<table border=\"1\" class=\"dataframe\">\n",
       "  <thead>\n",
       "    <tr style=\"text-align: right;\">\n",
       "      <th></th>\n",
       "      <th>Prospect ID</th>\n",
       "      <th>Lead Number</th>\n",
       "      <th>Lead Origin</th>\n",
       "      <th>Lead Source</th>\n",
       "      <th>Do Not Email</th>\n",
       "      <th>Do Not Call</th>\n",
       "      <th>Converted</th>\n",
       "      <th>TotalVisits</th>\n",
       "      <th>Total Time Spent on Website</th>\n",
       "      <th>Page Views Per Visit</th>\n",
       "      <th>Last Activity</th>\n",
       "      <th>Country</th>\n",
       "      <th>Specialization</th>\n",
       "      <th>How did you hear about X Education</th>\n",
       "      <th>What is your current occupation</th>\n",
       "      <th>What matters most to you in choosing a course</th>\n",
       "      <th>Search</th>\n",
       "      <th>Magazine</th>\n",
       "      <th>Newspaper Article</th>\n",
       "      <th>X Education Forums</th>\n",
       "      <th>Newspaper</th>\n",
       "      <th>Digital Advertisement</th>\n",
       "      <th>Through Recommendations</th>\n",
       "      <th>Receive More Updates About Our Courses</th>\n",
       "      <th>Tags</th>\n",
       "      <th>Lead Quality</th>\n",
       "      <th>Update me on Supply Chain Content</th>\n",
       "      <th>Get updates on DM Content</th>\n",
       "      <th>Lead Profile</th>\n",
       "      <th>City</th>\n",
       "      <th>Asymmetrique Activity Index</th>\n",
       "      <th>Asymmetrique Profile Index</th>\n",
       "      <th>Asymmetrique Activity Score</th>\n",
       "      <th>Asymmetrique Profile Score</th>\n",
       "      <th>I agree to pay the amount through cheque</th>\n",
       "      <th>A free copy of Mastering The Interview</th>\n",
       "      <th>Last Notable Activity</th>\n",
       "    </tr>\n",
       "  </thead>\n",
       "  <tbody>\n",
       "    <tr>\n",
       "      <th>0</th>\n",
       "      <td>7927b2df-8bba-4d29-b9a2-b6e0beafe620</td>\n",
       "      <td>660737</td>\n",
       "      <td>API</td>\n",
       "      <td>Olark Chat</td>\n",
       "      <td>No</td>\n",
       "      <td>No</td>\n",
       "      <td>0</td>\n",
       "      <td>0.0</td>\n",
       "      <td>0</td>\n",
       "      <td>0.0</td>\n",
       "      <td>Page Visited on Website</td>\n",
       "      <td>NaN</td>\n",
       "      <td>Select</td>\n",
       "      <td>Select</td>\n",
       "      <td>Unemployed</td>\n",
       "      <td>Better Career Prospects</td>\n",
       "      <td>No</td>\n",
       "      <td>No</td>\n",
       "      <td>No</td>\n",
       "      <td>No</td>\n",
       "      <td>No</td>\n",
       "      <td>No</td>\n",
       "      <td>No</td>\n",
       "      <td>No</td>\n",
       "      <td>Interested in other courses</td>\n",
       "      <td>Low in Relevance</td>\n",
       "      <td>No</td>\n",
       "      <td>No</td>\n",
       "      <td>Select</td>\n",
       "      <td>Select</td>\n",
       "      <td>02.Medium</td>\n",
       "      <td>02.Medium</td>\n",
       "      <td>15.0</td>\n",
       "      <td>15.0</td>\n",
       "      <td>No</td>\n",
       "      <td>No</td>\n",
       "      <td>Modified</td>\n",
       "    </tr>\n",
       "    <tr>\n",
       "      <th>1</th>\n",
       "      <td>2a272436-5132-4136-86fa-dcc88c88f482</td>\n",
       "      <td>660728</td>\n",
       "      <td>API</td>\n",
       "      <td>Organic Search</td>\n",
       "      <td>No</td>\n",
       "      <td>No</td>\n",
       "      <td>0</td>\n",
       "      <td>5.0</td>\n",
       "      <td>674</td>\n",
       "      <td>2.5</td>\n",
       "      <td>Email Opened</td>\n",
       "      <td>India</td>\n",
       "      <td>Select</td>\n",
       "      <td>Select</td>\n",
       "      <td>Unemployed</td>\n",
       "      <td>Better Career Prospects</td>\n",
       "      <td>No</td>\n",
       "      <td>No</td>\n",
       "      <td>No</td>\n",
       "      <td>No</td>\n",
       "      <td>No</td>\n",
       "      <td>No</td>\n",
       "      <td>No</td>\n",
       "      <td>No</td>\n",
       "      <td>Ringing</td>\n",
       "      <td>NaN</td>\n",
       "      <td>No</td>\n",
       "      <td>No</td>\n",
       "      <td>Select</td>\n",
       "      <td>Select</td>\n",
       "      <td>02.Medium</td>\n",
       "      <td>02.Medium</td>\n",
       "      <td>15.0</td>\n",
       "      <td>15.0</td>\n",
       "      <td>No</td>\n",
       "      <td>No</td>\n",
       "      <td>Email Opened</td>\n",
       "    </tr>\n",
       "    <tr>\n",
       "      <th>2</th>\n",
       "      <td>8cc8c611-a219-4f35-ad23-fdfd2656bd8a</td>\n",
       "      <td>660727</td>\n",
       "      <td>Landing Page Submission</td>\n",
       "      <td>Direct Traffic</td>\n",
       "      <td>No</td>\n",
       "      <td>No</td>\n",
       "      <td>1</td>\n",
       "      <td>2.0</td>\n",
       "      <td>1532</td>\n",
       "      <td>2.0</td>\n",
       "      <td>Email Opened</td>\n",
       "      <td>India</td>\n",
       "      <td>Business Administration</td>\n",
       "      <td>Select</td>\n",
       "      <td>Student</td>\n",
       "      <td>Better Career Prospects</td>\n",
       "      <td>No</td>\n",
       "      <td>No</td>\n",
       "      <td>No</td>\n",
       "      <td>No</td>\n",
       "      <td>No</td>\n",
       "      <td>No</td>\n",
       "      <td>No</td>\n",
       "      <td>No</td>\n",
       "      <td>Will revert after reading the email</td>\n",
       "      <td>Might be</td>\n",
       "      <td>No</td>\n",
       "      <td>No</td>\n",
       "      <td>Potential Lead</td>\n",
       "      <td>Mumbai</td>\n",
       "      <td>02.Medium</td>\n",
       "      <td>01.High</td>\n",
       "      <td>14.0</td>\n",
       "      <td>20.0</td>\n",
       "      <td>No</td>\n",
       "      <td>Yes</td>\n",
       "      <td>Email Opened</td>\n",
       "    </tr>\n",
       "    <tr>\n",
       "      <th>3</th>\n",
       "      <td>0cc2df48-7cf4-4e39-9de9-19797f9b38cc</td>\n",
       "      <td>660719</td>\n",
       "      <td>Landing Page Submission</td>\n",
       "      <td>Direct Traffic</td>\n",
       "      <td>No</td>\n",
       "      <td>No</td>\n",
       "      <td>0</td>\n",
       "      <td>1.0</td>\n",
       "      <td>305</td>\n",
       "      <td>1.0</td>\n",
       "      <td>Unreachable</td>\n",
       "      <td>India</td>\n",
       "      <td>Media and Advertising</td>\n",
       "      <td>Word Of Mouth</td>\n",
       "      <td>Unemployed</td>\n",
       "      <td>Better Career Prospects</td>\n",
       "      <td>No</td>\n",
       "      <td>No</td>\n",
       "      <td>No</td>\n",
       "      <td>No</td>\n",
       "      <td>No</td>\n",
       "      <td>No</td>\n",
       "      <td>No</td>\n",
       "      <td>No</td>\n",
       "      <td>Ringing</td>\n",
       "      <td>Not Sure</td>\n",
       "      <td>No</td>\n",
       "      <td>No</td>\n",
       "      <td>Select</td>\n",
       "      <td>Mumbai</td>\n",
       "      <td>02.Medium</td>\n",
       "      <td>01.High</td>\n",
       "      <td>13.0</td>\n",
       "      <td>17.0</td>\n",
       "      <td>No</td>\n",
       "      <td>No</td>\n",
       "      <td>Modified</td>\n",
       "    </tr>\n",
       "    <tr>\n",
       "      <th>4</th>\n",
       "      <td>3256f628-e534-4826-9d63-4a8b88782852</td>\n",
       "      <td>660681</td>\n",
       "      <td>Landing Page Submission</td>\n",
       "      <td>Google</td>\n",
       "      <td>No</td>\n",
       "      <td>No</td>\n",
       "      <td>1</td>\n",
       "      <td>2.0</td>\n",
       "      <td>1428</td>\n",
       "      <td>1.0</td>\n",
       "      <td>Converted to Lead</td>\n",
       "      <td>India</td>\n",
       "      <td>Select</td>\n",
       "      <td>Other</td>\n",
       "      <td>Unemployed</td>\n",
       "      <td>Better Career Prospects</td>\n",
       "      <td>No</td>\n",
       "      <td>No</td>\n",
       "      <td>No</td>\n",
       "      <td>No</td>\n",
       "      <td>No</td>\n",
       "      <td>No</td>\n",
       "      <td>No</td>\n",
       "      <td>No</td>\n",
       "      <td>Will revert after reading the email</td>\n",
       "      <td>Might be</td>\n",
       "      <td>No</td>\n",
       "      <td>No</td>\n",
       "      <td>Select</td>\n",
       "      <td>Mumbai</td>\n",
       "      <td>02.Medium</td>\n",
       "      <td>01.High</td>\n",
       "      <td>15.0</td>\n",
       "      <td>18.0</td>\n",
       "      <td>No</td>\n",
       "      <td>No</td>\n",
       "      <td>Modified</td>\n",
       "    </tr>\n",
       "  </tbody>\n",
       "</table>\n",
       "</div>"
      ],
      "text/plain": [
       "                            Prospect ID  Lead Number              Lead Origin  \\\n",
       "0  7927b2df-8bba-4d29-b9a2-b6e0beafe620       660737                      API   \n",
       "1  2a272436-5132-4136-86fa-dcc88c88f482       660728                      API   \n",
       "2  8cc8c611-a219-4f35-ad23-fdfd2656bd8a       660727  Landing Page Submission   \n",
       "3  0cc2df48-7cf4-4e39-9de9-19797f9b38cc       660719  Landing Page Submission   \n",
       "4  3256f628-e534-4826-9d63-4a8b88782852       660681  Landing Page Submission   \n",
       "\n",
       "      Lead Source Do Not Email Do Not Call  Converted  TotalVisits  \\\n",
       "0      Olark Chat           No          No          0          0.0   \n",
       "1  Organic Search           No          No          0          5.0   \n",
       "2  Direct Traffic           No          No          1          2.0   \n",
       "3  Direct Traffic           No          No          0          1.0   \n",
       "4          Google           No          No          1          2.0   \n",
       "\n",
       "   Total Time Spent on Website  Page Views Per Visit            Last Activity  \\\n",
       "0                            0                   0.0  Page Visited on Website   \n",
       "1                          674                   2.5             Email Opened   \n",
       "2                         1532                   2.0             Email Opened   \n",
       "3                          305                   1.0              Unreachable   \n",
       "4                         1428                   1.0        Converted to Lead   \n",
       "\n",
       "  Country           Specialization How did you hear about X Education  \\\n",
       "0     NaN                   Select                             Select   \n",
       "1   India                   Select                             Select   \n",
       "2   India  Business Administration                             Select   \n",
       "3   India    Media and Advertising                      Word Of Mouth   \n",
       "4   India                   Select                              Other   \n",
       "\n",
       "  What is your current occupation  \\\n",
       "0                      Unemployed   \n",
       "1                      Unemployed   \n",
       "2                         Student   \n",
       "3                      Unemployed   \n",
       "4                      Unemployed   \n",
       "\n",
       "  What matters most to you in choosing a course Search Magazine  \\\n",
       "0                       Better Career Prospects     No       No   \n",
       "1                       Better Career Prospects     No       No   \n",
       "2                       Better Career Prospects     No       No   \n",
       "3                       Better Career Prospects     No       No   \n",
       "4                       Better Career Prospects     No       No   \n",
       "\n",
       "  Newspaper Article X Education Forums Newspaper Digital Advertisement  \\\n",
       "0                No                 No        No                    No   \n",
       "1                No                 No        No                    No   \n",
       "2                No                 No        No                    No   \n",
       "3                No                 No        No                    No   \n",
       "4                No                 No        No                    No   \n",
       "\n",
       "  Through Recommendations Receive More Updates About Our Courses  \\\n",
       "0                      No                                     No   \n",
       "1                      No                                     No   \n",
       "2                      No                                     No   \n",
       "3                      No                                     No   \n",
       "4                      No                                     No   \n",
       "\n",
       "                                  Tags      Lead Quality  \\\n",
       "0          Interested in other courses  Low in Relevance   \n",
       "1                              Ringing               NaN   \n",
       "2  Will revert after reading the email          Might be   \n",
       "3                              Ringing          Not Sure   \n",
       "4  Will revert after reading the email          Might be   \n",
       "\n",
       "  Update me on Supply Chain Content Get updates on DM Content    Lead Profile  \\\n",
       "0                                No                        No          Select   \n",
       "1                                No                        No          Select   \n",
       "2                                No                        No  Potential Lead   \n",
       "3                                No                        No          Select   \n",
       "4                                No                        No          Select   \n",
       "\n",
       "     City Asymmetrique Activity Index Asymmetrique Profile Index  \\\n",
       "0  Select                   02.Medium                  02.Medium   \n",
       "1  Select                   02.Medium                  02.Medium   \n",
       "2  Mumbai                   02.Medium                    01.High   \n",
       "3  Mumbai                   02.Medium                    01.High   \n",
       "4  Mumbai                   02.Medium                    01.High   \n",
       "\n",
       "   Asymmetrique Activity Score  Asymmetrique Profile Score  \\\n",
       "0                         15.0                        15.0   \n",
       "1                         15.0                        15.0   \n",
       "2                         14.0                        20.0   \n",
       "3                         13.0                        17.0   \n",
       "4                         15.0                        18.0   \n",
       "\n",
       "  I agree to pay the amount through cheque  \\\n",
       "0                                       No   \n",
       "1                                       No   \n",
       "2                                       No   \n",
       "3                                       No   \n",
       "4                                       No   \n",
       "\n",
       "  A free copy of Mastering The Interview Last Notable Activity  \n",
       "0                                     No              Modified  \n",
       "1                                     No          Email Opened  \n",
       "2                                    Yes          Email Opened  \n",
       "3                                     No              Modified  \n",
       "4                                     No              Modified  "
      ]
     },
     "execution_count": 3,
     "metadata": {
      "tags": []
     },
     "output_type": "execute_result"
    }
   ],
   "source": [
    "# Reading leads.csv dataset\n",
    "df = pd.read_csv('Leads.csv')\n",
    "df.head()"
   ]
  },
  {
   "cell_type": "code",
   "execution_count": 4,
   "metadata": {
    "colab": {
     "base_uri": "https://localhost:8080/",
     "height": 206
    },
    "id": "ZWy7mTMIxDfH",
    "outputId": "962fcfed-75d1-4f2e-82e1-b6008d262be7"
   },
   "outputs": [
    {
     "data": {
      "text/html": [
       "<div>\n",
       "<style scoped>\n",
       "    .dataframe tbody tr th:only-of-type {\n",
       "        vertical-align: middle;\n",
       "    }\n",
       "\n",
       "    .dataframe tbody tr th {\n",
       "        vertical-align: top;\n",
       "    }\n",
       "\n",
       "    .dataframe thead th {\n",
       "        text-align: right;\n",
       "    }\n",
       "</style>\n",
       "<table border=\"1\" class=\"dataframe\">\n",
       "  <thead>\n",
       "    <tr style=\"text-align: right;\">\n",
       "      <th></th>\n",
       "      <th>Variables</th>\n",
       "      <th>Description</th>\n",
       "    </tr>\n",
       "  </thead>\n",
       "  <tbody>\n",
       "    <tr>\n",
       "      <th>0</th>\n",
       "      <td>Prospect ID</td>\n",
       "      <td>A unique ID with which the customer is identif...</td>\n",
       "    </tr>\n",
       "    <tr>\n",
       "      <th>1</th>\n",
       "      <td>Lead Number</td>\n",
       "      <td>A lead number assigned to each lead procured.</td>\n",
       "    </tr>\n",
       "    <tr>\n",
       "      <th>2</th>\n",
       "      <td>Lead Origin</td>\n",
       "      <td>The origin identifier with which the customer ...</td>\n",
       "    </tr>\n",
       "    <tr>\n",
       "      <th>3</th>\n",
       "      <td>Lead Source</td>\n",
       "      <td>The source of the lead. Includes Google, Organ...</td>\n",
       "    </tr>\n",
       "    <tr>\n",
       "      <th>4</th>\n",
       "      <td>Do Not Email</td>\n",
       "      <td>An indicator variable selected by the customer...</td>\n",
       "    </tr>\n",
       "  </tbody>\n",
       "</table>\n",
       "</div>"
      ],
      "text/plain": [
       "      Variables                                        Description\n",
       "0   Prospect ID  A unique ID with which the customer is identif...\n",
       "1   Lead Number      A lead number assigned to each lead procured.\n",
       "2   Lead Origin  The origin identifier with which the customer ...\n",
       "3   Lead Source  The source of the lead. Includes Google, Organ...\n",
       "4  Do Not Email  An indicator variable selected by the customer..."
      ]
     },
     "execution_count": 4,
     "metadata": {
      "tags": []
     },
     "output_type": "execute_result"
    }
   ],
   "source": [
    "df_dict = pd.read_excel('Leads Data Dictionary.xlsx',header=2)\n",
    "df_dict.drop('Unnamed: 0',axis=1,inplace = True)\n",
    "df_dict.head()"
   ]
  },
  {
   "cell_type": "code",
   "execution_count": 5,
   "metadata": {
    "colab": {
     "base_uri": "https://localhost:8080/"
    },
    "id": "fgjtz3R9xlta",
    "outputId": "fe06afc1-a0f3-4123-85d5-2a5adbf92696"
   },
   "outputs": [
    {
     "name": "stdout",
     "output_type": "stream",
     "text": [
      "<class 'pandas.core.frame.DataFrame'>\n",
      "RangeIndex: 9240 entries, 0 to 9239\n",
      "Data columns (total 37 columns):\n",
      " #   Column                                         Non-Null Count  Dtype  \n",
      "---  ------                                         --------------  -----  \n",
      " 0   Prospect ID                                    9240 non-null   object \n",
      " 1   Lead Number                                    9240 non-null   int64  \n",
      " 2   Lead Origin                                    9240 non-null   object \n",
      " 3   Lead Source                                    9204 non-null   object \n",
      " 4   Do Not Email                                   9240 non-null   object \n",
      " 5   Do Not Call                                    9240 non-null   object \n",
      " 6   Converted                                      9240 non-null   int64  \n",
      " 7   TotalVisits                                    9103 non-null   float64\n",
      " 8   Total Time Spent on Website                    9240 non-null   int64  \n",
      " 9   Page Views Per Visit                           9103 non-null   float64\n",
      " 10  Last Activity                                  9137 non-null   object \n",
      " 11  Country                                        6779 non-null   object \n",
      " 12  Specialization                                 7802 non-null   object \n",
      " 13  How did you hear about X Education             7033 non-null   object \n",
      " 14  What is your current occupation                6550 non-null   object \n",
      " 15  What matters most to you in choosing a course  6531 non-null   object \n",
      " 16  Search                                         9240 non-null   object \n",
      " 17  Magazine                                       9240 non-null   object \n",
      " 18  Newspaper Article                              9240 non-null   object \n",
      " 19  X Education Forums                             9240 non-null   object \n",
      " 20  Newspaper                                      9240 non-null   object \n",
      " 21  Digital Advertisement                          9240 non-null   object \n",
      " 22  Through Recommendations                        9240 non-null   object \n",
      " 23  Receive More Updates About Our Courses         9240 non-null   object \n",
      " 24  Tags                                           5887 non-null   object \n",
      " 25  Lead Quality                                   4473 non-null   object \n",
      " 26  Update me on Supply Chain Content              9240 non-null   object \n",
      " 27  Get updates on DM Content                      9240 non-null   object \n",
      " 28  Lead Profile                                   6531 non-null   object \n",
      " 29  City                                           7820 non-null   object \n",
      " 30  Asymmetrique Activity Index                    5022 non-null   object \n",
      " 31  Asymmetrique Profile Index                     5022 non-null   object \n",
      " 32  Asymmetrique Activity Score                    5022 non-null   float64\n",
      " 33  Asymmetrique Profile Score                     5022 non-null   float64\n",
      " 34  I agree to pay the amount through cheque       9240 non-null   object \n",
      " 35  A free copy of Mastering The Interview         9240 non-null   object \n",
      " 36  Last Notable Activity                          9240 non-null   object \n",
      "dtypes: float64(4), int64(3), object(30)\n",
      "memory usage: 2.6+ MB\n"
     ]
    }
   ],
   "source": [
    "df.info()"
   ]
  },
  {
   "cell_type": "code",
   "execution_count": 6,
   "metadata": {
    "colab": {
     "base_uri": "https://localhost:8080/",
     "height": 300
    },
    "id": "HHnmRt9mzZtT",
    "outputId": "eaae8619-abdf-43cd-a3bf-06e96bdf1bf5"
   },
   "outputs": [
    {
     "data": {
      "text/html": [
       "<div>\n",
       "<style scoped>\n",
       "    .dataframe tbody tr th:only-of-type {\n",
       "        vertical-align: middle;\n",
       "    }\n",
       "\n",
       "    .dataframe tbody tr th {\n",
       "        vertical-align: top;\n",
       "    }\n",
       "\n",
       "    .dataframe thead th {\n",
       "        text-align: right;\n",
       "    }\n",
       "</style>\n",
       "<table border=\"1\" class=\"dataframe\">\n",
       "  <thead>\n",
       "    <tr style=\"text-align: right;\">\n",
       "      <th></th>\n",
       "      <th>Lead Number</th>\n",
       "      <th>Converted</th>\n",
       "      <th>TotalVisits</th>\n",
       "      <th>Total Time Spent on Website</th>\n",
       "      <th>Page Views Per Visit</th>\n",
       "      <th>Asymmetrique Activity Score</th>\n",
       "      <th>Asymmetrique Profile Score</th>\n",
       "    </tr>\n",
       "  </thead>\n",
       "  <tbody>\n",
       "    <tr>\n",
       "      <th>count</th>\n",
       "      <td>9240.000000</td>\n",
       "      <td>9240.000000</td>\n",
       "      <td>9103.000000</td>\n",
       "      <td>9240.000000</td>\n",
       "      <td>9103.000000</td>\n",
       "      <td>5022.000000</td>\n",
       "      <td>5022.000000</td>\n",
       "    </tr>\n",
       "    <tr>\n",
       "      <th>mean</th>\n",
       "      <td>617188.435606</td>\n",
       "      <td>0.385390</td>\n",
       "      <td>3.445238</td>\n",
       "      <td>487.698268</td>\n",
       "      <td>2.362820</td>\n",
       "      <td>14.306252</td>\n",
       "      <td>16.344883</td>\n",
       "    </tr>\n",
       "    <tr>\n",
       "      <th>std</th>\n",
       "      <td>23405.995698</td>\n",
       "      <td>0.486714</td>\n",
       "      <td>4.854853</td>\n",
       "      <td>548.021466</td>\n",
       "      <td>2.161418</td>\n",
       "      <td>1.386694</td>\n",
       "      <td>1.811395</td>\n",
       "    </tr>\n",
       "    <tr>\n",
       "      <th>min</th>\n",
       "      <td>579533.000000</td>\n",
       "      <td>0.000000</td>\n",
       "      <td>0.000000</td>\n",
       "      <td>0.000000</td>\n",
       "      <td>0.000000</td>\n",
       "      <td>7.000000</td>\n",
       "      <td>11.000000</td>\n",
       "    </tr>\n",
       "    <tr>\n",
       "      <th>25%</th>\n",
       "      <td>596484.500000</td>\n",
       "      <td>0.000000</td>\n",
       "      <td>1.000000</td>\n",
       "      <td>12.000000</td>\n",
       "      <td>1.000000</td>\n",
       "      <td>14.000000</td>\n",
       "      <td>15.000000</td>\n",
       "    </tr>\n",
       "    <tr>\n",
       "      <th>50%</th>\n",
       "      <td>615479.000000</td>\n",
       "      <td>0.000000</td>\n",
       "      <td>3.000000</td>\n",
       "      <td>248.000000</td>\n",
       "      <td>2.000000</td>\n",
       "      <td>14.000000</td>\n",
       "      <td>16.000000</td>\n",
       "    </tr>\n",
       "    <tr>\n",
       "      <th>75%</th>\n",
       "      <td>637387.250000</td>\n",
       "      <td>1.000000</td>\n",
       "      <td>5.000000</td>\n",
       "      <td>936.000000</td>\n",
       "      <td>3.000000</td>\n",
       "      <td>15.000000</td>\n",
       "      <td>18.000000</td>\n",
       "    </tr>\n",
       "    <tr>\n",
       "      <th>max</th>\n",
       "      <td>660737.000000</td>\n",
       "      <td>1.000000</td>\n",
       "      <td>251.000000</td>\n",
       "      <td>2272.000000</td>\n",
       "      <td>55.000000</td>\n",
       "      <td>18.000000</td>\n",
       "      <td>20.000000</td>\n",
       "    </tr>\n",
       "  </tbody>\n",
       "</table>\n",
       "</div>"
      ],
      "text/plain": [
       "         Lead Number    Converted  TotalVisits  Total Time Spent on Website  \\\n",
       "count    9240.000000  9240.000000  9103.000000                  9240.000000   \n",
       "mean   617188.435606     0.385390     3.445238                   487.698268   \n",
       "std     23405.995698     0.486714     4.854853                   548.021466   \n",
       "min    579533.000000     0.000000     0.000000                     0.000000   \n",
       "25%    596484.500000     0.000000     1.000000                    12.000000   \n",
       "50%    615479.000000     0.000000     3.000000                   248.000000   \n",
       "75%    637387.250000     1.000000     5.000000                   936.000000   \n",
       "max    660737.000000     1.000000   251.000000                  2272.000000   \n",
       "\n",
       "       Page Views Per Visit  Asymmetrique Activity Score  \\\n",
       "count           9103.000000                  5022.000000   \n",
       "mean               2.362820                    14.306252   \n",
       "std                2.161418                     1.386694   \n",
       "min                0.000000                     7.000000   \n",
       "25%                1.000000                    14.000000   \n",
       "50%                2.000000                    14.000000   \n",
       "75%                3.000000                    15.000000   \n",
       "max               55.000000                    18.000000   \n",
       "\n",
       "       Asymmetrique Profile Score  \n",
       "count                 5022.000000  \n",
       "mean                    16.344883  \n",
       "std                      1.811395  \n",
       "min                     11.000000  \n",
       "25%                     15.000000  \n",
       "50%                     16.000000  \n",
       "75%                     18.000000  \n",
       "max                     20.000000  "
      ]
     },
     "execution_count": 6,
     "metadata": {
      "tags": []
     },
     "output_type": "execute_result"
    }
   ],
   "source": [
    "df.describe()"
   ]
  },
  {
   "cell_type": "code",
   "execution_count": 7,
   "metadata": {
    "colab": {
     "base_uri": "https://localhost:8080/"
    },
    "id": "GO30BBJlxntw",
    "outputId": "bdf3e348-ccaa-4654-d685-aa8145a480cc"
   },
   "outputs": [
    {
     "data": {
      "text/plain": [
       "(9240, 37)"
      ]
     },
     "execution_count": 7,
     "metadata": {
      "tags": []
     },
     "output_type": "execute_result"
    }
   ],
   "source": [
    "df.shape"
   ]
  },
  {
   "cell_type": "markdown",
   "metadata": {
    "id": "Vj_EvOFjzhX1"
   },
   "source": [
    "# **2. Data Preprocessing**"
   ]
  },
  {
   "cell_type": "markdown",
   "metadata": {
    "id": "lbUCLHucVQIn"
   },
   "source": [
    "## **a) Dropping sales team generated columns**"
   ]
  },
  {
   "cell_type": "code",
   "execution_count": 8,
   "metadata": {
    "id": "hyAw2HkG5r0W"
   },
   "outputs": [],
   "source": [
    "sales_gen = ['Asymmetrique Activity Index','Asymmetrique Profile Index', 'Asymmetrique Activity Score','Asymmetrique Profile Score',  \n",
    "             'Tags','Last Notable Activity','Lead Quality','Lead Profile','Last Activity']\n",
    "df.drop(sales_gen, axis=1, inplace=True)"
   ]
  },
  {
   "cell_type": "code",
   "execution_count": 9,
   "metadata": {
    "id": "0gTuQ6cy1uOZ"
   },
   "outputs": [],
   "source": [
    "# dropping 'Prospect ID' & 'Lead Number' as they won't be of much use during analysis and model building\n",
    "df.drop(['Prospect ID','Lead Number'],axis=1,inplace=True)"
   ]
  },
  {
   "cell_type": "markdown",
   "metadata": {
    "id": "N3CgmZiCVf2l"
   },
   "source": [
    "## **b) Treating system generated categories**"
   ]
  },
  {
   "cell_type": "code",
   "execution_count": 10,
   "metadata": {
    "id": "WrxyAXW99eg-"
   },
   "outputs": [],
   "source": [
    "# Replacing \"Select\" i.e. a system generated categories  with Null values\n",
    "cols = ['City','How did you hear about X Education','Specialization']\n",
    "for col in cols:\n",
    "  df[col].replace({'Select':np.nan}, inplace=True)"
   ]
  },
  {
   "cell_type": "markdown",
   "metadata": {
    "id": "5YmQxnxKzsHG"
   },
   "source": [
    "## **c) Checking percentage of missing values**"
   ]
  },
  {
   "cell_type": "code",
   "execution_count": 11,
   "metadata": {
    "colab": {
     "base_uri": "https://localhost:8080/"
    },
    "id": "Eb3vxM0HzzVh",
    "outputId": "779bed8c-d29b-4a1f-c684-844e87ede988"
   },
   "outputs": [
    {
     "data": {
      "text/plain": [
       "Lead Origin                                       0.00\n",
       "Lead Source                                       0.39\n",
       "Do Not Email                                      0.00\n",
       "Do Not Call                                       0.00\n",
       "Converted                                         0.00\n",
       "TotalVisits                                       1.48\n",
       "Total Time Spent on Website                       0.00\n",
       "Page Views Per Visit                              1.48\n",
       "Country                                          26.63\n",
       "Specialization                                   36.58\n",
       "How did you hear about X Education               78.46\n",
       "What is your current occupation                  29.11\n",
       "What matters most to you in choosing a course    29.32\n",
       "Search                                            0.00\n",
       "Magazine                                          0.00\n",
       "Newspaper Article                                 0.00\n",
       "X Education Forums                                0.00\n",
       "Newspaper                                         0.00\n",
       "Digital Advertisement                             0.00\n",
       "Through Recommendations                           0.00\n",
       "Receive More Updates About Our Courses            0.00\n",
       "Update me on Supply Chain Content                 0.00\n",
       "Get updates on DM Content                         0.00\n",
       "City                                             39.71\n",
       "I agree to pay the amount through cheque          0.00\n",
       "A free copy of Mastering The Interview            0.00\n",
       "dtype: float64"
      ]
     },
     "execution_count": 11,
     "metadata": {
      "tags": []
     },
     "output_type": "execute_result"
    }
   ],
   "source": [
    "# Percentage of missing values\n",
    "round(df.isnull().sum()/df.shape[0]*100,2)"
   ]
  },
  {
   "cell_type": "markdown",
   "metadata": {
    "id": "TxB4dZy7V2il"
   },
   "source": [
    "## **d) Dropping columns which have more 35% missing values**"
   ]
  },
  {
   "cell_type": "code",
   "execution_count": 12,
   "metadata": {
    "id": "v4GlrzDyz3NS"
   },
   "outputs": [],
   "source": [
    "# Dropping columns having more than 35% missing values\n",
    "cols = df.isnull().sum()[round(df.isnull().sum()/df.shape[0]*100,2)>35].index.tolist()\n",
    "df.drop(cols, axis=1, inplace=True)"
   ]
  },
  {
   "cell_type": "code",
   "execution_count": 13,
   "metadata": {
    "colab": {
     "base_uri": "https://localhost:8080/"
    },
    "id": "VhRQUGSaEePE",
    "outputId": "0dc5cef6-9f24-4148-80af-1326da3693b0"
   },
   "outputs": [
    {
     "data": {
      "text/plain": [
       "Lead Origin                                       0.00\n",
       "Lead Source                                       0.39\n",
       "Do Not Email                                      0.00\n",
       "Do Not Call                                       0.00\n",
       "Converted                                         0.00\n",
       "TotalVisits                                       1.48\n",
       "Total Time Spent on Website                       0.00\n",
       "Page Views Per Visit                              1.48\n",
       "Country                                          26.63\n",
       "What is your current occupation                  29.11\n",
       "What matters most to you in choosing a course    29.32\n",
       "Search                                            0.00\n",
       "Magazine                                          0.00\n",
       "Newspaper Article                                 0.00\n",
       "X Education Forums                                0.00\n",
       "Newspaper                                         0.00\n",
       "Digital Advertisement                             0.00\n",
       "Through Recommendations                           0.00\n",
       "Receive More Updates About Our Courses            0.00\n",
       "Update me on Supply Chain Content                 0.00\n",
       "Get updates on DM Content                         0.00\n",
       "I agree to pay the amount through cheque          0.00\n",
       "A free copy of Mastering The Interview            0.00\n",
       "dtype: float64"
      ]
     },
     "execution_count": 13,
     "metadata": {
      "tags": []
     },
     "output_type": "execute_result"
    }
   ],
   "source": [
    "round(df.isnull().sum()/df.shape[0]*100,2)"
   ]
  },
  {
   "cell_type": "markdown",
   "metadata": {
    "id": "9nI7wIZ0vldu"
   },
   "source": [
    "## **e) Dropping skewed categorical columns**"
   ]
  },
  {
   "cell_type": "code",
   "execution_count": 14,
   "metadata": {
    "colab": {
     "base_uri": "https://localhost:8080/"
    },
    "id": "9fThSeskx-cC",
    "outputId": "71602ec4-7c78-46e0-d856-18ac33187eca"
   },
   "outputs": [
    {
     "data": {
      "text/plain": [
       "No     99.85\n",
       "Yes     0.15\n",
       "Name: Search, dtype: float64"
      ]
     },
     "execution_count": 14,
     "metadata": {
      "tags": []
     },
     "output_type": "execute_result"
    }
   ],
   "source": [
    "# Checking for skewness in 'Search' column\n",
    "round(df['Search'].value_counts(normalize=True)*100,2)"
   ]
  },
  {
   "cell_type": "code",
   "execution_count": 15,
   "metadata": {
    "colab": {
     "base_uri": "https://localhost:8080/"
    },
    "id": "L78EQqphxH55",
    "outputId": "f9b65579-07b4-4cc5-ad06-ed55719467ab"
   },
   "outputs": [
    {
     "data": {
      "text/plain": [
       "Better Career Prospects      99.95\n",
       "Flexibility & Convenience     0.03\n",
       "Other                         0.02\n",
       "Name: What matters most to you in choosing a course, dtype: float64"
      ]
     },
     "execution_count": 15,
     "metadata": {
      "tags": []
     },
     "output_type": "execute_result"
    }
   ],
   "source": [
    "# Checking for skewness in 'What matters most to you in choosing a course' column\n",
    "round(df['What matters most to you in choosing a course'].value_counts(normalize=True)*100,2)"
   ]
  },
  {
   "cell_type": "code",
   "execution_count": 16,
   "metadata": {
    "colab": {
     "base_uri": "https://localhost:8080/"
    },
    "id": "_toTZYj3P5Vp",
    "outputId": "8f88f13d-5b54-41af-d41d-b8f228b370c6"
   },
   "outputs": [
    {
     "data": {
      "text/plain": [
       "No     99.98\n",
       "Yes     0.02\n",
       "Name: Do Not Call, dtype: float64"
      ]
     },
     "execution_count": 16,
     "metadata": {
      "tags": []
     },
     "output_type": "execute_result"
    }
   ],
   "source": [
    "# Checking for skewness in 'Do Not Call' column\n",
    "round(df['Do Not Call'].value_counts(normalize=True)*100,2)"
   ]
  },
  {
   "cell_type": "markdown",
   "metadata": {
    "id": "tz1TL_u_0WZH"
   },
   "source": [
    "Similarly after measuring skewness in all other categorical columns, below is the list for columns where skewness was observed."
   ]
  },
  {
   "cell_type": "code",
   "execution_count": 17,
   "metadata": {
    "id": "AIrhXX2jynAP"
   },
   "outputs": [],
   "source": [
    "# List of columns which are skewed\n",
    "cols = ['Search','What matters most to you in choosing a course','Do Not Call','Country','Newspaper Article','X Education Forums',  \n",
    "        'Newspaper','Digital Advertisement','Through Recommendations','Update me on Supply Chain Content','Get updates on DM Content', \n",
    "        'Receive More Updates About Our Courses','Magazine','I agree to pay the amount through cheque']\n",
    "\n",
    "# Dropping columns which have skewness\n",
    "df.drop(cols,axis=1,inplace=True)"
   ]
  },
  {
   "cell_type": "code",
   "execution_count": 18,
   "metadata": {
    "colab": {
     "base_uri": "https://localhost:8080/",
     "height": 0
    },
    "id": "avAnCo7n1m4t",
    "outputId": "775b0c4f-63aa-4c34-e86e-b19eae3588dc"
   },
   "outputs": [
    {
     "data": {
      "text/html": [
       "<div>\n",
       "<style scoped>\n",
       "    .dataframe tbody tr th:only-of-type {\n",
       "        vertical-align: middle;\n",
       "    }\n",
       "\n",
       "    .dataframe tbody tr th {\n",
       "        vertical-align: top;\n",
       "    }\n",
       "\n",
       "    .dataframe thead th {\n",
       "        text-align: right;\n",
       "    }\n",
       "</style>\n",
       "<table border=\"1\" class=\"dataframe\">\n",
       "  <thead>\n",
       "    <tr style=\"text-align: right;\">\n",
       "      <th></th>\n",
       "      <th>Lead Origin</th>\n",
       "      <th>Lead Source</th>\n",
       "      <th>Do Not Email</th>\n",
       "      <th>Converted</th>\n",
       "      <th>TotalVisits</th>\n",
       "      <th>Total Time Spent on Website</th>\n",
       "      <th>Page Views Per Visit</th>\n",
       "      <th>What is your current occupation</th>\n",
       "      <th>A free copy of Mastering The Interview</th>\n",
       "    </tr>\n",
       "  </thead>\n",
       "  <tbody>\n",
       "    <tr>\n",
       "      <th>0</th>\n",
       "      <td>API</td>\n",
       "      <td>Olark Chat</td>\n",
       "      <td>No</td>\n",
       "      <td>0</td>\n",
       "      <td>0.0</td>\n",
       "      <td>0</td>\n",
       "      <td>0.0</td>\n",
       "      <td>Unemployed</td>\n",
       "      <td>No</td>\n",
       "    </tr>\n",
       "    <tr>\n",
       "      <th>1</th>\n",
       "      <td>API</td>\n",
       "      <td>Organic Search</td>\n",
       "      <td>No</td>\n",
       "      <td>0</td>\n",
       "      <td>5.0</td>\n",
       "      <td>674</td>\n",
       "      <td>2.5</td>\n",
       "      <td>Unemployed</td>\n",
       "      <td>No</td>\n",
       "    </tr>\n",
       "    <tr>\n",
       "      <th>2</th>\n",
       "      <td>Landing Page Submission</td>\n",
       "      <td>Direct Traffic</td>\n",
       "      <td>No</td>\n",
       "      <td>1</td>\n",
       "      <td>2.0</td>\n",
       "      <td>1532</td>\n",
       "      <td>2.0</td>\n",
       "      <td>Student</td>\n",
       "      <td>Yes</td>\n",
       "    </tr>\n",
       "    <tr>\n",
       "      <th>3</th>\n",
       "      <td>Landing Page Submission</td>\n",
       "      <td>Direct Traffic</td>\n",
       "      <td>No</td>\n",
       "      <td>0</td>\n",
       "      <td>1.0</td>\n",
       "      <td>305</td>\n",
       "      <td>1.0</td>\n",
       "      <td>Unemployed</td>\n",
       "      <td>No</td>\n",
       "    </tr>\n",
       "    <tr>\n",
       "      <th>4</th>\n",
       "      <td>Landing Page Submission</td>\n",
       "      <td>Google</td>\n",
       "      <td>No</td>\n",
       "      <td>1</td>\n",
       "      <td>2.0</td>\n",
       "      <td>1428</td>\n",
       "      <td>1.0</td>\n",
       "      <td>Unemployed</td>\n",
       "      <td>No</td>\n",
       "    </tr>\n",
       "  </tbody>\n",
       "</table>\n",
       "</div>"
      ],
      "text/plain": [
       "               Lead Origin     Lead Source Do Not Email  Converted  \\\n",
       "0                      API      Olark Chat           No          0   \n",
       "1                      API  Organic Search           No          0   \n",
       "2  Landing Page Submission  Direct Traffic           No          1   \n",
       "3  Landing Page Submission  Direct Traffic           No          0   \n",
       "4  Landing Page Submission          Google           No          1   \n",
       "\n",
       "   TotalVisits  Total Time Spent on Website  Page Views Per Visit  \\\n",
       "0          0.0                            0                   0.0   \n",
       "1          5.0                          674                   2.5   \n",
       "2          2.0                         1532                   2.0   \n",
       "3          1.0                          305                   1.0   \n",
       "4          2.0                         1428                   1.0   \n",
       "\n",
       "  What is your current occupation A free copy of Mastering The Interview  \n",
       "0                      Unemployed                                     No  \n",
       "1                      Unemployed                                     No  \n",
       "2                         Student                                    Yes  \n",
       "3                      Unemployed                                     No  \n",
       "4                      Unemployed                                     No  "
      ]
     },
     "execution_count": 18,
     "metadata": {
      "tags": []
     },
     "output_type": "execute_result"
    }
   ],
   "source": [
    "df.head()"
   ]
  },
  {
   "cell_type": "markdown",
   "metadata": {
    "id": "VCiId-9jW6pp"
   },
   "source": [
    "## **f) Combining categories with few samples**"
   ]
  },
  {
   "cell_type": "markdown",
   "metadata": {
    "id": "WHYmlWoal96F"
   },
   "source": [
    "Grouping categories in 'Lead Origin' column"
   ]
  },
  {
   "cell_type": "code",
   "execution_count": 19,
   "metadata": {
    "colab": {
     "base_uri": "https://localhost:8080/"
    },
    "id": "I_LhOX4WKiJo",
    "outputId": "993e5edb-702c-4ec1-c32e-9f33825892eb"
   },
   "outputs": [
    {
     "data": {
      "text/plain": [
       "Landing Page Submission    52.88\n",
       "API                        38.74\n",
       "Lead Add Form               7.77\n",
       "Lead Import                 0.60\n",
       "Quick Add Form              0.01\n",
       "Name: Lead Origin, dtype: float64"
      ]
     },
     "execution_count": 19,
     "metadata": {
      "tags": []
     },
     "output_type": "execute_result"
    }
   ],
   "source": [
    "# Checking sample distribution in each category\n",
    "round(df['Lead Origin'].value_counts(normalize=True)*100,2)"
   ]
  },
  {
   "cell_type": "code",
   "execution_count": 20,
   "metadata": {
    "colab": {
     "base_uri": "https://localhost:8080/"
    },
    "id": "wTEeT0DRoTbS",
    "outputId": "652804cd-08ba-478c-a314-3608119ca1c8"
   },
   "outputs": [
    {
     "data": {
      "text/plain": [
       "Landing Page Submission    52.88\n",
       "API                        38.74\n",
       "Lead Add Form               8.38\n",
       "Name: Lead Origin, dtype: float64"
      ]
     },
     "execution_count": 20,
     "metadata": {
      "tags": []
     },
     "output_type": "execute_result"
    }
   ],
   "source": [
    "# Merging 'Quick Add Form' and 'Lead Import' with 'Lead Add Form'\n",
    "df['Lead Origin'].replace({\"Quick Add Form\":\"Lead Add Form\"},inplace=True)\n",
    "df['Lead Origin'].replace({\"Lead Import\":\"Lead Add Form\"},inplace=True)\n",
    "round(df['Lead Origin'].value_counts(normalize=True)*100,2)"
   ]
  },
  {
   "cell_type": "markdown",
   "metadata": {
    "id": "jSpHAX2-mIsD"
   },
   "source": [
    "Grouping categories in 'Lead Source' column"
   ]
  },
  {
   "cell_type": "code",
   "execution_count": 21,
   "metadata": {
    "colab": {
     "base_uri": "https://localhost:8080/"
    },
    "id": "NJzEaFoOKsf3",
    "outputId": "b7300eb2-4a9b-4948-e49f-2e9783f411f9"
   },
   "outputs": [
    {
     "data": {
      "text/plain": [
       "Google               31.16\n",
       "Direct Traffic       27.63\n",
       "Olark Chat           19.07\n",
       "Organic Search       12.54\n",
       "Reference             5.80\n",
       "Welingak Website      1.54\n",
       "Referral Sites        1.36\n",
       "Facebook              0.60\n",
       "bing                  0.07\n",
       "google                0.05\n",
       "Click2call            0.04\n",
       "Social Media          0.02\n",
       "Press_Release         0.02\n",
       "Live Chat             0.02\n",
       "welearnblog_Home      0.01\n",
       "WeLearn               0.01\n",
       "Pay per Click Ads     0.01\n",
       "testone               0.01\n",
       "youtubechannel        0.01\n",
       "NC_EDM                0.01\n",
       "blog                  0.01\n",
       "Name: Lead Source, dtype: float64"
      ]
     },
     "execution_count": 21,
     "metadata": {
      "tags": []
     },
     "output_type": "execute_result"
    }
   ],
   "source": [
    "# Checking sample distribution in each category\n",
    "round(df['Lead Source'].value_counts(normalize=True)*100,2)"
   ]
  },
  {
   "cell_type": "code",
   "execution_count": 22,
   "metadata": {
    "colab": {
     "base_uri": "https://localhost:8080/"
    },
    "id": "jjZTdMLjeoj1",
    "outputId": "0d07743f-ee28-45e1-9cf2-c6accbbdd625"
   },
   "outputs": [
    {
     "data": {
      "text/plain": [
       "Google            31.21\n",
       "Direct Traffic    27.63\n",
       "Olark Chat        19.07\n",
       "Organic Search    12.54\n",
       "Reference          5.80\n",
       "Other sources      3.75\n",
       "Name: Lead Source, dtype: float64"
      ]
     },
     "execution_count": 22,
     "metadata": {
      "tags": []
     },
     "output_type": "execute_result"
    }
   ],
   "source": [
    "# Merging categoried having very few samples\n",
    "df['Lead Source'].replace({\"google\":\"Google\"},inplace=True)\n",
    "categories = [\"Welingak Website\",\"Referral Sites\",\"Facebook\",\"bing\",\"Click2call\",\"Social Media\",\"Press_Release\",\"Live Chat\",\"testone\",\"NC_EDM\",\"WeLearn\",\"blog\",\"Pay per Click Ads\",\"youtubechannel\",\"welearnblog_Home\"]\n",
    "for cat in categories:\n",
    "  df['Lead Source'].replace({cat:\"Other sources\"},inplace=True)\n",
    "round(df['Lead Source'].value_counts(normalize=True)*100,2)"
   ]
  },
  {
   "cell_type": "markdown",
   "metadata": {
    "id": "40sXdbEknRWP"
   },
   "source": [
    "Grouping categories in 'What is you current occupation' column"
   ]
  },
  {
   "cell_type": "code",
   "execution_count": 23,
   "metadata": {
    "colab": {
     "base_uri": "https://localhost:8080/"
    },
    "id": "xzKe_8WoRwP1",
    "outputId": "1731ca7a-5c7e-4340-d09f-6f16c842edbc"
   },
   "outputs": [
    {
     "data": {
      "text/plain": [
       "Unemployed              85.50\n",
       "Working Professional    10.78\n",
       "Student                  3.21\n",
       "Other                    0.24\n",
       "Housewife                0.15\n",
       "Businessman              0.12\n",
       "Name: Occupation, dtype: float64"
      ]
     },
     "execution_count": 23,
     "metadata": {
      "tags": []
     },
     "output_type": "execute_result"
    }
   ],
   "source": [
    "# Renaming 'What is your current occupation' to 'Occupation'\n",
    "df.rename({'What is your current occupation':'Occupation'},inplace=True,axis=1)\n",
    "round(df['Occupation'].value_counts(normalize=True)*100,2)"
   ]
  },
  {
   "cell_type": "code",
   "execution_count": 24,
   "metadata": {
    "colab": {
     "base_uri": "https://localhost:8080/"
    },
    "id": "dxXn-32qlNSz",
    "outputId": "f3123019-9641-436a-c256-9927f5834772"
   },
   "outputs": [
    {
     "data": {
      "text/plain": [
       "Unemployed              89.1\n",
       "Working Professional    10.9\n",
       "Name: Occupation, dtype: float64"
      ]
     },
     "execution_count": 24,
     "metadata": {
      "tags": []
     },
     "output_type": "execute_result"
    }
   ],
   "source": [
    "# Merging \"Housewife\" and \"Student\" with \"Unemployed\"\n",
    "df['Occupation'].replace({\"Housewife\":\"Unemployed\"},inplace=True)\n",
    "df['Occupation'].replace({\"Student\":\"Unemployed\"},inplace=True)\n",
    "# Merging \"Businessman\" with \"Working Professional\"\n",
    "df['Occupation'].replace({\"Businessman\":\"Working Professional\"},inplace=True)\n",
    "# Since very few samples fall under \"Other\" category, it can be merged with \"Unemployed\"\n",
    "df['Occupation'].replace({\"Other\":\"Unemployed\"},inplace=True)\n",
    "round(df['Occupation'].value_counts(normalize=True)*100,2)"
   ]
  },
  {
   "cell_type": "markdown",
   "metadata": {
    "id": "2wLu4_dSWKwu"
   },
   "source": [
    "## **g) Dropping rows having high missing values**"
   ]
  },
  {
   "cell_type": "code",
   "execution_count": 25,
   "metadata": {
    "colab": {
     "base_uri": "https://localhost:8080/"
    },
    "id": "Q_Y71GOl3LZy",
    "outputId": "1b42a1ca-f4b4-43b0-d627-0e90e418c0f7"
   },
   "outputs": [
    {
     "data": {
      "text/plain": [
       "Lead Origin                                0.00\n",
       "Lead Source                                0.39\n",
       "Do Not Email                               0.00\n",
       "Converted                                  0.00\n",
       "TotalVisits                                1.48\n",
       "Total Time Spent on Website                0.00\n",
       "Page Views Per Visit                       1.48\n",
       "Occupation                                29.11\n",
       "A free copy of Mastering The Interview     0.00\n",
       "dtype: float64"
      ]
     },
     "execution_count": 25,
     "metadata": {
      "tags": []
     },
     "output_type": "execute_result"
    }
   ],
   "source": [
    "round(df.isnull().sum()/df.shape[0]*100,2)"
   ]
  },
  {
   "cell_type": "code",
   "execution_count": 26,
   "metadata": {
    "id": "okBISVcsVdyd"
   },
   "outputs": [],
   "source": [
    "# dropping rows where \"Occupation\" is null, as impution is not possible due to high missing percentage\n",
    "df = df[~(df['Occupation'].isnull())]"
   ]
  },
  {
   "cell_type": "code",
   "execution_count": 27,
   "metadata": {
    "colab": {
     "base_uri": "https://localhost:8080/"
    },
    "id": "pwwzyaA-Y8id",
    "outputId": "a8897cfb-7526-480c-9930-d47ab8300930"
   },
   "outputs": [
    {
     "data": {
      "text/plain": [
       "(6550, 9)"
      ]
     },
     "execution_count": 27,
     "metadata": {
      "tags": []
     },
     "output_type": "execute_result"
    }
   ],
   "source": [
    "df.shape"
   ]
  },
  {
   "cell_type": "markdown",
   "metadata": {
    "id": "MkBjLfzeX_UE"
   },
   "source": [
    "## **h) Imputing missing values**"
   ]
  },
  {
   "cell_type": "code",
   "execution_count": 28,
   "metadata": {
    "colab": {
     "base_uri": "https://localhost:8080/"
    },
    "id": "w43mGe3SYgGO",
    "outputId": "bcb210b5-ec7c-4cb3-c9f2-9fe60daa8aff"
   },
   "outputs": [
    {
     "data": {
      "text/plain": [
       "Lead Origin                               0.00\n",
       "Lead Source                               0.55\n",
       "Do Not Email                              0.00\n",
       "Converted                                 0.00\n",
       "TotalVisits                               1.98\n",
       "Total Time Spent on Website               0.00\n",
       "Page Views Per Visit                      1.98\n",
       "Occupation                                0.00\n",
       "A free copy of Mastering The Interview    0.00\n",
       "dtype: float64"
      ]
     },
     "execution_count": 28,
     "metadata": {
      "tags": []
     },
     "output_type": "execute_result"
    }
   ],
   "source": [
    "round(df.isnull().sum()/df.shape[0]*100,2)"
   ]
  },
  {
   "cell_type": "code",
   "execution_count": 29,
   "metadata": {
    "colab": {
     "base_uri": "https://localhost:8080/"
    },
    "id": "2XHvGJifqFeX",
    "outputId": "d9e68c6d-014a-4edc-a335-60a4bd5044c7"
   },
   "outputs": [
    {
     "name": "stdout",
     "output_type": "stream",
     "text": [
      "<class 'pandas.core.frame.DataFrame'>\n",
      "Int64Index: 6550 entries, 0 to 9239\n",
      "Data columns (total 9 columns):\n",
      " #   Column                                  Non-Null Count  Dtype  \n",
      "---  ------                                  --------------  -----  \n",
      " 0   Lead Origin                             6550 non-null   object \n",
      " 1   Lead Source                             6514 non-null   object \n",
      " 2   Do Not Email                            6550 non-null   object \n",
      " 3   Converted                               6550 non-null   int64  \n",
      " 4   TotalVisits                             6420 non-null   float64\n",
      " 5   Total Time Spent on Website             6550 non-null   int64  \n",
      " 6   Page Views Per Visit                    6420 non-null   float64\n",
      " 7   Occupation                              6550 non-null   object \n",
      " 8   A free copy of Mastering The Interview  6550 non-null   object \n",
      "dtypes: float64(2), int64(2), object(5)\n",
      "memory usage: 511.7+ KB\n"
     ]
    }
   ],
   "source": [
    "df.info()"
   ]
  },
  {
   "cell_type": "code",
   "execution_count": 30,
   "metadata": {
    "id": "_x8RFJmplZRP"
   },
   "outputs": [],
   "source": [
    "# Filling missing values in 'Lead Source' with its mode i.e. 'Google'\n",
    "df['Lead Source'].fillna(df['Lead Source'].mode()[0],inplace=True)"
   ]
  },
  {
   "cell_type": "code",
   "execution_count": 31,
   "metadata": {
    "id": "zSYEbTU2qgF6"
   },
   "outputs": [],
   "source": [
    "# Filling missing values in 'TotalVisits' and 'Page Views Per Visit' with median\n",
    "df['TotalVisits'].fillna(df['TotalVisits'].median(),inplace=True)\n",
    "df['Page Views Per Visit'].fillna(df['Page Views Per Visit'].median(),inplace=True)"
   ]
  },
  {
   "cell_type": "code",
   "execution_count": 32,
   "metadata": {
    "colab": {
     "base_uri": "https://localhost:8080/"
    },
    "id": "rv9IbdgCkX-B",
    "outputId": "8a51d513-dc42-495e-8c96-153191311c94"
   },
   "outputs": [
    {
     "data": {
      "text/plain": [
       "Lead Origin                               0\n",
       "Lead Source                               0\n",
       "Do Not Email                              0\n",
       "Converted                                 0\n",
       "TotalVisits                               0\n",
       "Total Time Spent on Website               0\n",
       "Page Views Per Visit                      0\n",
       "Occupation                                0\n",
       "A free copy of Mastering The Interview    0\n",
       "dtype: int64"
      ]
     },
     "execution_count": 32,
     "metadata": {
      "tags": []
     },
     "output_type": "execute_result"
    }
   ],
   "source": [
    "df.isnull().sum()"
   ]
  },
  {
   "cell_type": "markdown",
   "metadata": {
    "id": "kRhZ1k8jibT2"
   },
   "source": [
    "## **i) Outliers Treatment**"
   ]
  },
  {
   "cell_type": "code",
   "execution_count": 33,
   "metadata": {
    "id": "OGQqYs-Uij9i"
   },
   "outputs": [],
   "source": [
    "num_cols = ['TotalVisits','Page Views Per Visit','Total Time Spent on Website']"
   ]
  },
  {
   "cell_type": "code",
   "execution_count": 34,
   "metadata": {
    "colab": {
     "base_uri": "https://localhost:8080/",
     "height": 303
    },
    "id": "PzAEJN_zi8ZK",
    "outputId": "3bb708f0-2388-4047-ed57-0198c5e97a65"
   },
   "outputs": [
    {
     "data": {
      "image/png": "[encoded data removed]",
      "text/plain": [
       "<Figure size 864x360 with 3 Axes>"
      ]
     },
     "metadata": {
      "needs_background": "light",
      "tags": []
     },
     "output_type": "display_data"
    }
   ],
   "source": [
    "# Plotting boxplots of numerical columns\n",
    "fig,ax = plt.subplots(1,3,figsize=(12,5))\n",
    "for i,col in enumerate(num_cols):\n",
    "  sns.boxplot(data=df,y=col,ax=ax[i])"
   ]
  },
  {
   "cell_type": "code",
   "execution_count": 35,
   "metadata": {
    "colab": {
     "base_uri": "https://localhost:8080/"
    },
    "id": "q6Dp-7g9LKIu",
    "outputId": "c0104e48-ab3b-4acd-b945-c0b8996b1f45"
   },
   "outputs": [
    {
     "data": {
      "text/plain": [
       "1.00    251.0\n",
       "0.99     17.0\n",
       "Name: TotalVisits, dtype: float64"
      ]
     },
     "execution_count": 35,
     "metadata": {
      "tags": []
     },
     "output_type": "execute_result"
    }
   ],
   "source": [
    "df['TotalVisits'].quantile([1,0.99])"
   ]
  },
  {
   "cell_type": "code",
   "execution_count": 36,
   "metadata": {
    "colab": {
     "base_uri": "https://localhost:8080/"
    },
    "id": "TYTGrLL7RYcx",
    "outputId": "414feb56-7810-479b-a67e-a823dcb9eeef"
   },
   "outputs": [
    {
     "data": {
      "text/plain": [
       "1.00    55.0\n",
       "0.99     9.0\n",
       "Name: Page Views Per Visit, dtype: float64"
      ]
     },
     "execution_count": 36,
     "metadata": {
      "tags": []
     },
     "output_type": "execute_result"
    }
   ],
   "source": [
    "df['Page Views Per Visit'].quantile([1,0.99])"
   ]
  },
  {
   "cell_type": "code",
   "execution_count": 37,
   "metadata": {
    "id": "v9neqtWSNspW"
   },
   "outputs": [],
   "source": [
    "# Capping 'Page Views Per Visit' at 99 percentile\n",
    "cap = df['Page Views Per Visit'].quantile(0.99)\n",
    "df['Page Views Per Visit'][df['Page Views Per Visit'] > cap] = cap"
   ]
  },
  {
   "cell_type": "code",
   "execution_count": 38,
   "metadata": {
    "id": "ECndWCV4w8kd"
   },
   "outputs": [],
   "source": [
    "# Capping 'TotalVisits' at 99 percentile\n",
    "cap = df['TotalVisits'].quantile(0.99)\n",
    "df['TotalVisits'][df['TotalVisits'] > cap] = cap"
   ]
  },
  {
   "cell_type": "code",
   "execution_count": 39,
   "metadata": {
    "colab": {
     "base_uri": "https://localhost:8080/",
     "height": 303
    },
    "id": "E2a9B7TJxac6",
    "outputId": "14c72dce-6c94-4a64-9c30-ae4593ff00c0"
   },
   "outputs": [
    {
     "data": {
      "image/png": "[encoded data removed]",
      "text/plain": [
       "<Figure size 864x360 with 3 Axes>"
      ]
     },
     "metadata": {
      "needs_background": "light",
      "tags": []
     },
     "output_type": "display_data"
    }
   ],
   "source": [
    "# Plotting boxplots after outlier treatment\n",
    "fig,ax = plt.subplots(1,3,figsize=(12,5))\n",
    "for i,col in enumerate(num_cols):\n",
    "  sns.boxplot(data=df,y=col,ax=ax[i])"
   ]
  },
  {
   "cell_type": "markdown",
   "metadata": {
    "id": "NRe0g1n-xKXG"
   },
   "source": [
    "## **j) Percentage of rows left after data cleaning process**"
   ]
  },
  {
   "cell_type": "code",
   "execution_count": 40,
   "metadata": {
    "colab": {
     "base_uri": "https://localhost:8080/"
    },
    "id": "1_-W8AIvxIGN",
    "outputId": "9dbad8ee-226a-4d26-ef1e-a5a3e7df60ce"
   },
   "outputs": [
    {
     "name": "stdout",
     "output_type": "stream",
     "text": [
      "Pecentage of rows left after pre-processing is 70.89\n"
     ]
    }
   ],
   "source": [
    "rows_init = 9240 # Initial length of the dataset\n",
    "\n",
    "print(f'Pecentage of rows left after pre-processing is {round(len(df)/rows_init*100,2)}')"
   ]
  },
  {
   "cell_type": "markdown",
   "metadata": {
    "id": "Z_KsZ-2AYHN3"
   },
   "source": [
    "# **3. Exploratory Data Analysis**"
   ]
  },
  {
   "cell_type": "markdown",
   "metadata": {
    "id": "UNt2ayMIBcIv"
   },
   "source": [
    "## **a) Univariate Analysis**"
   ]
  },
  {
   "cell_type": "markdown",
   "metadata": {
    "id": "c_B3y4zyOyH1"
   },
   "source": [
    "### **i) Categorical**"
   ]
  },
  {
   "cell_type": "code",
   "execution_count": 41,
   "metadata": {
    "colab": {
     "base_uri": "https://localhost:8080/",
     "height": 1000
    },
    "id": "1wp6SuA-axDQ",
    "outputId": "ee35fb1d-15dc-4812-8b2f-a12afe5f38ea"
   },
   "outputs": [
    {
     "data": {
      "image/png": "[encoded data removed]",
      "text/plain": [
       "<Figure size 1080x1296 with 6 Axes>"
      ]
     },
     "metadata": {
      "needs_background": "light",
      "tags": []
     },
     "output_type": "display_data"
    }
   ],
   "source": [
    "# Visualizing categorical columns using Boxplots\n",
    "cols = ['Lead Origin','Lead Source','Do Not Email','Occupation',\n",
    "        'A free copy of Mastering The Interview','Converted']\n",
    "r = c = 0\n",
    "fig,ax = plt.subplots(3,2,figsize=(15,18))\n",
    "\n",
    "for n,i in enumerate(cols):\n",
    "    sns.countplot(x=cols[n], data=df,ax=ax[r,c])\n",
    "    c+=1\n",
    "    if (n+1)%2==0:\n",
    "        r+=1\n",
    "        c=0\n",
    "\n",
    "plt.show()"
   ]
  },
  {
   "cell_type": "markdown",
   "metadata": {
    "id": "A_LotuxDiSkY"
   },
   "source": [
    "**Inferences:**\n",
    "- Leads usually originates from landing page submission, followed by API.\n",
    "- Google and Direct Traffic are two major sources of leads.\n",
    "- Above plots shows, high distribution of lead falls under unemployed segment."
   ]
  },
  {
   "cell_type": "markdown",
   "metadata": {
    "id": "umBSXkMJOsSB"
   },
   "source": [
    "### **ii) Numerical**"
   ]
  },
  {
   "cell_type": "code",
   "execution_count": 42,
   "metadata": {
    "colab": {
     "base_uri": "https://localhost:8080/",
     "height": 823
    },
    "id": "y9cYIy8ca8Kd",
    "outputId": "e9fd2f10-d1c0-43d7-ec7c-8c4636ea695a"
   },
   "outputs": [
    {
     "data": {
      "image/png": "[encoded data removed]",
      "text/plain": [
       "<Figure size 720x1008 with 3 Axes>"
      ]
     },
     "metadata": {
      "needs_background": "light",
      "tags": []
     },
     "output_type": "display_data"
    }
   ],
   "source": [
    "# Visualizing Numerical columns using Distribution Plot \n",
    "\n",
    "cols = ['TotalVisits','Total Time Spent on Website','Page Views Per Visit']\n",
    "\n",
    "fig,ax = plt.subplots(3,figsize=(10,14))\n",
    "for n,i in enumerate(cols):\n",
    "    sns.distplot(df[i],ax=ax[n])\n",
    "plt.show()"
   ]
  },
  {
   "cell_type": "markdown",
   "metadata": {
    "id": "GcWLeNt0mqls"
   },
   "source": [
    "**Inferences:**\n",
    "- As per distribution of total visits, 2 peaks around 3 and 20 visits are visible.\n"
   ]
  },
  {
   "cell_type": "markdown",
   "metadata": {
    "id": "o4VDoR93JYiU"
   },
   "source": [
    "## **b) Bivariate Analysis**"
   ]
  },
  {
   "cell_type": "markdown",
   "metadata": {
    "id": "VajCABlaOV_A"
   },
   "source": [
    "### **i) Categorical - Categorical**"
   ]
  },
  {
   "cell_type": "code",
   "execution_count": 43,
   "metadata": {
    "colab": {
     "base_uri": "https://localhost:8080/",
     "height": 1000
    },
    "id": "GG_OxgToSBmI",
    "outputId": "675ec79d-913b-498c-eedd-c460b4aba572"
   },
   "outputs": [
    {
     "data": {
      "image/png": "[encoded data removed]",
      "text/plain": [
       "<Figure size 1080x1296 with 6 Axes>"
      ]
     },
     "metadata": {
      "needs_background": "light",
      "tags": []
     },
     "output_type": "display_data"
    }
   ],
   "source": [
    "# Visualizing categorical columns using Boxplots\n",
    "cols = ['Lead Origin','Lead Source','Do Not Email','Occupation',\n",
    "        'A free copy of Mastering The Interview']\n",
    "r = c = 0\n",
    "fig,ax = plt.subplots(3,2,figsize=(15,18))\n",
    "\n",
    "for n,i in enumerate(cols):\n",
    "    sns.countplot(x=cols[n], data=df,ax=ax[r,c],hue=df['Converted'])\n",
    "    c+=1\n",
    "    if (n+1)%2==0:\n",
    "        r+=1\n",
    "        c=0\n",
    "ax[r,c].axis(\"off\")\n",
    "plt.show()"
   ]
  },
  {
   "cell_type": "markdown",
   "metadata": {
    "id": "HQ8w2o2tqMkl"
   },
   "source": [
    "**Inferences:**\n",
    "- Leads which originates from \"Lead add form\" have significant chance of conversion.\n",
    "- Chances of conversion are high when the lead sources from \"refrences\", whereas opposite is true for \"Direct Search\".\n",
    "- Even though customer base of \"Working Professionals\" is small they have  significant conversion rate, probably due to better financial situation."
   ]
  },
  {
   "cell_type": "markdown",
   "metadata": {
    "id": "OheyqN7wOjmc"
   },
   "source": [
    "### **ii) Categorical - Numerical**"
   ]
  },
  {
   "cell_type": "code",
   "execution_count": 44,
   "metadata": {
    "colab": {
     "base_uri": "https://localhost:8080/",
     "height": 877
    },
    "id": "Yyphl5-ZTwGF",
    "outputId": "ff7ad8c7-d278-4a23-8b1b-622b1fa1a935"
   },
   "outputs": [
    {
     "data": {
      "image/png": "[encoded data removed]",
      "text/plain": [
       "<Figure size 504x1080 with 3 Axes>"
      ]
     },
     "metadata": {
      "needs_background": "light",
      "tags": []
     },
     "output_type": "display_data"
    }
   ],
   "source": [
    "cols = ['TotalVisits','Total Time Spent on Website','Page Views Per Visit']\n",
    "\n",
    "fig,ax = plt.subplots(3,figsize=(7,15))\n",
    "for n,i in enumerate(cols):\n",
    "    sns.boxplot(x='Converted',y=i,data=df,ax=ax[n])\n",
    "plt.show()"
   ]
  },
  {
   "cell_type": "markdown",
   "metadata": {
    "id": "DEZI0sd6unxe"
   },
   "source": [
    "**Inferences:**\n",
    "\n",
    "Based on above plots, it seems that leads those get converted usually spend more time on the website."
   ]
  },
  {
   "cell_type": "markdown",
   "metadata": {
    "id": "LHx20FzxPg4D"
   },
   "source": [
    "### **iii) Numerical - Numerical**"
   ]
  },
  {
   "cell_type": "code",
   "execution_count": 45,
   "metadata": {
    "colab": {
     "base_uri": "https://localhost:8080/",
     "height": 568
    },
    "id": "zY9kvCAjVI4E",
    "outputId": "31ee3f05-6bc3-40fb-aa36-88ae03676f71"
   },
   "outputs": [
    {
     "data": {
      "text/plain": [
       "<Figure size 1080x1080 with 0 Axes>"
      ]
     },
     "metadata": {
      "tags": []
     },
     "output_type": "display_data"
    },
    {
     "data": {
      "image/png": "[encoded data removed]",
      "text/plain": [
       "<Figure size 540x540 with 12 Axes>"
      ]
     },
     "metadata": {
      "needs_background": "light",
      "tags": []
     },
     "output_type": "display_data"
    }
   ],
   "source": [
    "cols = ['TotalVisits','Total Time Spent on Website','Page Views Per Visit']\n",
    "plt.figure(figsize=[15,15])\n",
    "sns.pairplot(df[cols])\n",
    "plt.show()"
   ]
  },
  {
   "cell_type": "markdown",
   "metadata": {
    "id": "5N_dO12_zWNK"
   },
   "source": [
    "**Inferences:**\n",
    "- Page views per visit and Totalvisits show linear relationship."
   ]
  },
  {
   "cell_type": "markdown",
   "metadata": {
    "id": "M6m7q2moYR2H"
   },
   "source": [
    "# **4. Data Preparation**"
   ]
  },
  {
   "cell_type": "markdown",
   "metadata": {
    "id": "pCJ8ZwwnYdZo"
   },
   "source": [
    "## **a) Creating Dummies for categorical columns**"
   ]
  },
  {
   "cell_type": "code",
   "execution_count": 46,
   "metadata": {
    "colab": {
     "base_uri": "https://localhost:8080/",
     "height": 0
    },
    "id": "_UlKcGdTyN7b",
    "outputId": "bcb2adc0-06e7-4165-b4fd-612fa18bf46b"
   },
   "outputs": [
    {
     "data": {
      "text/html": [
       "<div>\n",
       "<style scoped>\n",
       "    .dataframe tbody tr th:only-of-type {\n",
       "        vertical-align: middle;\n",
       "    }\n",
       "\n",
       "    .dataframe tbody tr th {\n",
       "        vertical-align: top;\n",
       "    }\n",
       "\n",
       "    .dataframe thead th {\n",
       "        text-align: right;\n",
       "    }\n",
       "</style>\n",
       "<table border=\"1\" class=\"dataframe\">\n",
       "  <thead>\n",
       "    <tr style=\"text-align: right;\">\n",
       "      <th></th>\n",
       "      <th>Lead Origin</th>\n",
       "      <th>Lead Source</th>\n",
       "      <th>Do Not Email</th>\n",
       "      <th>Converted</th>\n",
       "      <th>TotalVisits</th>\n",
       "      <th>Total Time Spent on Website</th>\n",
       "      <th>Page Views Per Visit</th>\n",
       "      <th>Occupation</th>\n",
       "      <th>A free copy of Mastering The Interview</th>\n",
       "    </tr>\n",
       "  </thead>\n",
       "  <tbody>\n",
       "    <tr>\n",
       "      <th>0</th>\n",
       "      <td>API</td>\n",
       "      <td>Olark Chat</td>\n",
       "      <td>No</td>\n",
       "      <td>0</td>\n",
       "      <td>0.0</td>\n",
       "      <td>0</td>\n",
       "      <td>0.0</td>\n",
       "      <td>Unemployed</td>\n",
       "      <td>No</td>\n",
       "    </tr>\n",
       "    <tr>\n",
       "      <th>1</th>\n",
       "      <td>API</td>\n",
       "      <td>Organic Search</td>\n",
       "      <td>No</td>\n",
       "      <td>0</td>\n",
       "      <td>5.0</td>\n",
       "      <td>674</td>\n",
       "      <td>2.5</td>\n",
       "      <td>Unemployed</td>\n",
       "      <td>No</td>\n",
       "    </tr>\n",
       "    <tr>\n",
       "      <th>2</th>\n",
       "      <td>Landing Page Submission</td>\n",
       "      <td>Direct Traffic</td>\n",
       "      <td>No</td>\n",
       "      <td>1</td>\n",
       "      <td>2.0</td>\n",
       "      <td>1532</td>\n",
       "      <td>2.0</td>\n",
       "      <td>Unemployed</td>\n",
       "      <td>Yes</td>\n",
       "    </tr>\n",
       "    <tr>\n",
       "      <th>3</th>\n",
       "      <td>Landing Page Submission</td>\n",
       "      <td>Direct Traffic</td>\n",
       "      <td>No</td>\n",
       "      <td>0</td>\n",
       "      <td>1.0</td>\n",
       "      <td>305</td>\n",
       "      <td>1.0</td>\n",
       "      <td>Unemployed</td>\n",
       "      <td>No</td>\n",
       "    </tr>\n",
       "    <tr>\n",
       "      <th>4</th>\n",
       "      <td>Landing Page Submission</td>\n",
       "      <td>Google</td>\n",
       "      <td>No</td>\n",
       "      <td>1</td>\n",
       "      <td>2.0</td>\n",
       "      <td>1428</td>\n",
       "      <td>1.0</td>\n",
       "      <td>Unemployed</td>\n",
       "      <td>No</td>\n",
       "    </tr>\n",
       "  </tbody>\n",
       "</table>\n",
       "</div>"
      ],
      "text/plain": [
       "               Lead Origin     Lead Source Do Not Email  Converted  \\\n",
       "0                      API      Olark Chat           No          0   \n",
       "1                      API  Organic Search           No          0   \n",
       "2  Landing Page Submission  Direct Traffic           No          1   \n",
       "3  Landing Page Submission  Direct Traffic           No          0   \n",
       "4  Landing Page Submission          Google           No          1   \n",
       "\n",
       "   TotalVisits  Total Time Spent on Website  Page Views Per Visit  Occupation  \\\n",
       "0          0.0                            0                   0.0  Unemployed   \n",
       "1          5.0                          674                   2.5  Unemployed   \n",
       "2          2.0                         1532                   2.0  Unemployed   \n",
       "3          1.0                          305                   1.0  Unemployed   \n",
       "4          2.0                         1428                   1.0  Unemployed   \n",
       "\n",
       "  A free copy of Mastering The Interview  \n",
       "0                                     No  \n",
       "1                                     No  \n",
       "2                                    Yes  \n",
       "3                                     No  \n",
       "4                                     No  "
      ]
     },
     "execution_count": 46,
     "metadata": {
      "tags": []
     },
     "output_type": "execute_result"
    }
   ],
   "source": [
    "df.head()"
   ]
  },
  {
   "cell_type": "code",
   "execution_count": 47,
   "metadata": {
    "id": "dfLiyG7T2k3o"
   },
   "outputs": [],
   "source": [
    "# Creating a dummy variable for some of the categorical variables and dropping the first one.\n",
    "cat = ['Lead Origin', 'Lead Source', 'Do Not Email', 'Occupation','A free copy of Mastering The Interview']\n",
    "dummy_df = pd.get_dummies(df[cat], drop_first=True)\n",
    "\n",
    "# Adding the results to the master dataframe\n",
    "df = pd.concat([df, dummy_df], axis=1)\n",
    "\n",
    "# Dropping duplicate columns\n",
    "df.drop(cat,axis=1,inplace=True)"
   ]
  },
  {
   "cell_type": "code",
   "execution_count": 48,
   "metadata": {
    "colab": {
     "base_uri": "https://localhost:8080/"
    },
    "id": "WisH0I8a3akg",
    "outputId": "dad41a1f-33c8-47e2-9693-1d8746421ae4"
   },
   "outputs": [
    {
     "data": {
      "text/plain": [
       "(6550, 14)"
      ]
     },
     "execution_count": 48,
     "metadata": {
      "tags": []
     },
     "output_type": "execute_result"
    }
   ],
   "source": [
    "df.shape"
   ]
  },
  {
   "cell_type": "markdown",
   "metadata": {
    "id": "bf0tZ4OzY3kY"
   },
   "source": [
    "## **b) Performing Train-Test Split**"
   ]
  },
  {
   "cell_type": "code",
   "execution_count": 49,
   "metadata": {
    "id": "Zfr66Ma239DD"
   },
   "outputs": [],
   "source": [
    "from sklearn.model_selection import train_test_split\n",
    "\n",
    "X = df.drop('Converted',axis=1)\n",
    "y = df['Converted']\n",
    "X_train, X_test, y_train, y_test = train_test_split(X, y, train_size=0.7, test_size=0.3, random_state=100)"
   ]
  },
  {
   "cell_type": "markdown",
   "metadata": {
    "id": "s6Vi1WaYZLSn"
   },
   "source": [
    "## **c) Scaling data using Standard Scaler**"
   ]
  },
  {
   "cell_type": "code",
   "execution_count": 50,
   "metadata": {
    "colab": {
     "base_uri": "https://localhost:8080/",
     "height": 0
    },
    "id": "0GIMaTmu4fPR",
    "outputId": "3f6f31b2-7a46-4df9-bc66-be661178a0aa"
   },
   "outputs": [
    {
     "data": {
      "text/html": [
       "<div>\n",
       "<style scoped>\n",
       "    .dataframe tbody tr th:only-of-type {\n",
       "        vertical-align: middle;\n",
       "    }\n",
       "\n",
       "    .dataframe tbody tr th {\n",
       "        vertical-align: top;\n",
       "    }\n",
       "\n",
       "    .dataframe thead th {\n",
       "        text-align: right;\n",
       "    }\n",
       "</style>\n",
       "<table border=\"1\" class=\"dataframe\">\n",
       "  <thead>\n",
       "    <tr style=\"text-align: right;\">\n",
       "      <th></th>\n",
       "      <th>TotalVisits</th>\n",
       "      <th>Total Time Spent on Website</th>\n",
       "      <th>Page Views Per Visit</th>\n",
       "      <th>Lead Origin_Landing Page Submission</th>\n",
       "      <th>Lead Origin_Lead Add Form</th>\n",
       "      <th>Lead Source_Google</th>\n",
       "      <th>Lead Source_Olark Chat</th>\n",
       "      <th>Lead Source_Organic Search</th>\n",
       "      <th>Lead Source_Other sources</th>\n",
       "      <th>Lead Source_Reference</th>\n",
       "      <th>Do Not Email_Yes</th>\n",
       "      <th>Occupation_Working Professional</th>\n",
       "      <th>A free copy of Mastering The Interview_Yes</th>\n",
       "    </tr>\n",
       "  </thead>\n",
       "  <tbody>\n",
       "    <tr>\n",
       "      <th>8766</th>\n",
       "      <td>2.313973</td>\n",
       "      <td>0.079143</td>\n",
       "      <td>0.642657</td>\n",
       "      <td>1</td>\n",
       "      <td>0</td>\n",
       "      <td>0</td>\n",
       "      <td>0</td>\n",
       "      <td>0</td>\n",
       "      <td>0</td>\n",
       "      <td>0</td>\n",
       "      <td>0</td>\n",
       "      <td>0</td>\n",
       "      <td>1</td>\n",
       "    </tr>\n",
       "    <tr>\n",
       "      <th>148</th>\n",
       "      <td>0.469900</td>\n",
       "      <td>-0.552124</td>\n",
       "      <td>0.041431</td>\n",
       "      <td>1</td>\n",
       "      <td>0</td>\n",
       "      <td>1</td>\n",
       "      <td>0</td>\n",
       "      <td>0</td>\n",
       "      <td>0</td>\n",
       "      <td>0</td>\n",
       "      <td>0</td>\n",
       "      <td>0</td>\n",
       "      <td>0</td>\n",
       "    </tr>\n",
       "    <tr>\n",
       "      <th>8146</th>\n",
       "      <td>3.236010</td>\n",
       "      <td>2.220569</td>\n",
       "      <td>2.353838</td>\n",
       "      <td>1</td>\n",
       "      <td>0</td>\n",
       "      <td>0</td>\n",
       "      <td>0</td>\n",
       "      <td>1</td>\n",
       "      <td>0</td>\n",
       "      <td>0</td>\n",
       "      <td>0</td>\n",
       "      <td>0</td>\n",
       "      <td>1</td>\n",
       "    </tr>\n",
       "    <tr>\n",
       "      <th>2782</th>\n",
       "      <td>-1.066827</td>\n",
       "      <td>-0.956694</td>\n",
       "      <td>-1.243239</td>\n",
       "      <td>0</td>\n",
       "      <td>0</td>\n",
       "      <td>0</td>\n",
       "      <td>1</td>\n",
       "      <td>0</td>\n",
       "      <td>0</td>\n",
       "      <td>0</td>\n",
       "      <td>0</td>\n",
       "      <td>0</td>\n",
       "      <td>0</td>\n",
       "    </tr>\n",
       "    <tr>\n",
       "      <th>6309</th>\n",
       "      <td>-1.066827</td>\n",
       "      <td>-0.956694</td>\n",
       "      <td>-1.243239</td>\n",
       "      <td>0</td>\n",
       "      <td>1</td>\n",
       "      <td>0</td>\n",
       "      <td>0</td>\n",
       "      <td>0</td>\n",
       "      <td>1</td>\n",
       "      <td>0</td>\n",
       "      <td>0</td>\n",
       "      <td>0</td>\n",
       "      <td>0</td>\n",
       "    </tr>\n",
       "  </tbody>\n",
       "</table>\n",
       "</div>"
      ],
      "text/plain": [
       "      TotalVisits  Total Time Spent on Website  Page Views Per Visit  \\\n",
       "8766     2.313973                     0.079143              0.642657   \n",
       "148      0.469900                    -0.552124              0.041431   \n",
       "8146     3.236010                     2.220569              2.353838   \n",
       "2782    -1.066827                    -0.956694             -1.243239   \n",
       "6309    -1.066827                    -0.956694             -1.243239   \n",
       "\n",
       "      Lead Origin_Landing Page Submission  Lead Origin_Lead Add Form  \\\n",
       "8766                                    1                          0   \n",
       "148                                     1                          0   \n",
       "8146                                    1                          0   \n",
       "2782                                    0                          0   \n",
       "6309                                    0                          1   \n",
       "\n",
       "      Lead Source_Google  Lead Source_Olark Chat  Lead Source_Organic Search  \\\n",
       "8766                   0                       0                           0   \n",
       "148                    1                       0                           0   \n",
       "8146                   0                       0                           1   \n",
       "2782                   0                       1                           0   \n",
       "6309                   0                       0                           0   \n",
       "\n",
       "      Lead Source_Other sources  Lead Source_Reference  Do Not Email_Yes  \\\n",
       "8766                          0                      0                 0   \n",
       "148                           0                      0                 0   \n",
       "8146                          0                      0                 0   \n",
       "2782                          0                      0                 0   \n",
       "6309                          1                      0                 0   \n",
       "\n",
       "      Occupation_Working Professional  \\\n",
       "8766                                0   \n",
       "148                                 0   \n",
       "8146                                0   \n",
       "2782                                0   \n",
       "6309                                0   \n",
       "\n",
       "      A free copy of Mastering The Interview_Yes  \n",
       "8766                                           1  \n",
       "148                                            0  \n",
       "8146                                           1  \n",
       "2782                                           0  \n",
       "6309                                           0  "
      ]
     },
     "execution_count": 50,
     "metadata": {
      "tags": []
     },
     "output_type": "execute_result"
    }
   ],
   "source": [
    "from sklearn.preprocessing import StandardScaler\n",
    "\n",
    "\n",
    "scaler = StandardScaler()\n",
    "num_cols = ['TotalVisits','Total Time Spent on Website','Page Views Per Visit']\n",
    "X_train[num_cols] = scaler.fit_transform(X_train[num_cols])\n",
    "\n",
    "X_train.head()"
   ]
  },
  {
   "cell_type": "markdown",
   "metadata": {
    "id": "9oKepI8oZRvV"
   },
   "source": [
    "# **5. Model Building**"
   ]
  },
  {
   "cell_type": "markdown",
   "metadata": {
    "id": "IewUhUmaZaDe"
   },
   "source": [
    "## **a) Feature Selection**"
   ]
  },
  {
   "cell_type": "code",
   "execution_count": 51,
   "metadata": {
    "colab": {
     "base_uri": "https://localhost:8080/"
    },
    "id": "NBBOYBi2OCHI",
    "outputId": "61eac184-d67a-495b-b057-2dc7148917e4"
   },
   "outputs": [
    {
     "name": "stdout",
     "output_type": "stream",
     "text": [
      "Initial feature count:  13\n"
     ]
    }
   ],
   "source": [
    "print(\"Initial feature count: \",len(X_train.columns))"
   ]
  },
  {
   "cell_type": "markdown",
   "metadata": {
    "id": "CkpNc4ku-dn-"
   },
   "source": [
    "### **Using RFE to select top 11 features**"
   ]
  },
  {
   "cell_type": "code",
   "execution_count": 52,
   "metadata": {
    "colab": {
     "base_uri": "https://localhost:8080/"
    },
    "id": "j2Nj2Wtu5Eaw",
    "outputId": "692bbb83-deb0-43dd-8056-3449afba0eaa"
   },
   "outputs": [
    {
     "name": "stdout",
     "output_type": "stream",
     "text": [
      "                                      Features  support_  ranking_\n",
      "0                                  TotalVisits      True         1\n",
      "1                  Total Time Spent on Website      True         1\n",
      "2                         Page Views Per Visit      True         1\n",
      "3          Lead Origin_Landing Page Submission     False         2\n",
      "4                    Lead Origin_Lead Add Form      True         1\n",
      "5                           Lead Source_Google      True         1\n",
      "6                       Lead Source_Olark Chat      True         1\n",
      "7                   Lead Source_Organic Search      True         1\n",
      "8                    Lead Source_Other sources      True         1\n",
      "9                        Lead Source_Reference      True         1\n",
      "10                            Do Not Email_Yes      True         1\n",
      "11             Occupation_Working Professional      True         1\n",
      "12  A free copy of Mastering The Interview_Yes     False         3\n"
     ]
    }
   ],
   "source": [
    "# Selecting top 11 features using RFE\n",
    "\n",
    "from sklearn.feature_selection import RFE\n",
    "from sklearn.linear_model import LogisticRegression\n",
    "\n",
    "lr = LogisticRegression()\n",
    "\n",
    "def rfe_features(model,n_features):\n",
    "  '''\n",
    "  Performs RFE to find best n_features for the model\n",
    "  '''\n",
    "  rfe = RFE(model,n_features)\n",
    "  rfe.fit(X_train, y_train)\n",
    "  print(pd.DataFrame(zip(X_train.columns, rfe.support_, rfe.ranking_),columns=[\"Features\",\"support_\",\"ranking_\"]))\n",
    "  return (X_train.columns[rfe.support_].tolist())\n",
    "\n",
    "# Storing top 11 features obtianed via RFE to \"col\"\n",
    "col = rfe_features(lr,11)"
   ]
  },
  {
   "cell_type": "markdown",
   "metadata": {
    "id": "PXffxdEb_psA"
   },
   "source": [
    "### **Performing manual feature selection using VIF and p-value**"
   ]
  },
  {
   "cell_type": "code",
   "execution_count": 53,
   "metadata": {
    "colab": {
     "base_uri": "https://localhost:8080/"
    },
    "id": "q2VPwpKmBE9x",
    "outputId": "e8a555b5-4eff-44f4-e1a5-efd8f4c4d9f6"
   },
   "outputs": [
    {
     "name": "stdout",
     "output_type": "stream",
     "text": [
      "                 Generalized Linear Model Regression Results                  \n",
      "==============================================================================\n",
      "Dep. Variable:              Converted   No. Observations:                 4585\n",
      "Model:                            GLM   Df Residuals:                     4573\n",
      "Model Family:                Binomial   Df Model:                           11\n",
      "Link Function:                  logit   Scale:                          1.0000\n",
      "Method:                          IRLS   Log-Likelihood:                -2301.3\n",
      "Date:                Mon, 07 Dec 2020   Deviance:                       4602.7\n",
      "Time:                        17:48:11   Pearson chi2:                 5.11e+03\n",
      "No. Iterations:                     6                                         \n",
      "Covariance Type:            nonrobust                                         \n",
      "===================================================================================================\n",
      "                                      coef    std err          z      P>|z|      [0.025      0.975]\n",
      "---------------------------------------------------------------------------------------------------\n",
      "const                              -0.9828      0.073    -13.380      0.000      -1.127      -0.839\n",
      "TotalVisits                         0.2827      0.051      5.528      0.000       0.182       0.383\n",
      "Total Time Spent on Website         1.0766      0.044     24.220      0.000       0.989       1.164\n",
      "Page Views Per Visit               -0.1302      0.056     -2.322      0.020      -0.240      -0.020\n",
      "Lead Origin_Lead Add Form           3.5357      0.362      9.758      0.000       2.826       4.246\n",
      "Lead Source_Google                  0.5400      0.093      5.785      0.000       0.357       0.723\n",
      "Lead Source_Olark Chat              1.5410      0.141     10.940      0.000       1.265       1.817\n",
      "Lead Source_Organic Search          0.2567      0.124      2.069      0.039       0.014       0.500\n",
      "Lead Source_Other sources          -0.0445      0.320     -0.139      0.889      -0.671       0.582\n",
      "Lead Source_Reference               0.3357      0.405      0.829      0.407      -0.458       1.129\n",
      "Do Not Email_Yes                   -1.2269      0.166     -7.401      0.000      -1.552      -0.902\n",
      "Occupation_Working Professional     2.4728      0.175     14.091      0.000       2.129       2.817\n",
      "===================================================================================================\n"
     ]
    }
   ],
   "source": [
    "import statsmodels.api as sm\n",
    "\n",
    "def sm_summary(col):\n",
    "  X_train_sm = sm.add_constant(X_train[col])\n",
    "  logm2 = sm.GLM(y_train,X_train_sm, family = sm.families.Binomial())\n",
    "  res = logm2.fit()\n",
    "  print(res.summary())\n",
    "\n",
    "sm_summary(col)"
   ]
  },
  {
   "cell_type": "code",
   "execution_count": 54,
   "metadata": {
    "colab": {
     "base_uri": "https://localhost:8080/"
    },
    "id": "xhbcNIzJCptM",
    "outputId": "b4896c95-5613-44ea-bb29-b06ffc93cf59"
   },
   "outputs": [
    {
     "name": "stdout",
     "output_type": "stream",
     "text": [
      "                 Generalized Linear Model Regression Results                  \n",
      "==============================================================================\n",
      "Dep. Variable:              Converted   No. Observations:                 4585\n",
      "Model:                            GLM   Df Residuals:                     4574\n",
      "Model Family:                Binomial   Df Model:                           10\n",
      "Link Function:                  logit   Scale:                          1.0000\n",
      "Method:                          IRLS   Log-Likelihood:                -2301.3\n",
      "Date:                Mon, 07 Dec 2020   Deviance:                       4602.7\n",
      "Time:                        17:48:11   Pearson chi2:                 5.11e+03\n",
      "No. Iterations:                     6                                         \n",
      "Covariance Type:            nonrobust                                         \n",
      "===================================================================================================\n",
      "                                      coef    std err          z      P>|z|      [0.025      0.975]\n",
      "---------------------------------------------------------------------------------------------------\n",
      "const                              -0.9850      0.072    -13.732      0.000      -1.126      -0.844\n",
      "TotalVisits                         0.2825      0.051      5.527      0.000       0.182       0.383\n",
      "Total Time Spent on Website         1.0766      0.044     24.224      0.000       0.990       1.164\n",
      "Page Views Per Visit               -0.1304      0.056     -2.326      0.020      -0.240      -0.021\n",
      "Lead Origin_Lead Add Form           3.4989      0.247     14.171      0.000       3.015       3.983\n",
      "Lead Source_Google                  0.5426      0.091      5.933      0.000       0.363       0.722\n",
      "Lead Source_Olark Chat              1.5427      0.140     10.996      0.000       1.268       1.818\n",
      "Lead Source_Organic Search          0.2590      0.123      2.108      0.035       0.018       0.500\n",
      "Lead Source_Reference               0.3742      0.295      1.268      0.205      -0.204       0.953\n",
      "Do Not Email_Yes                   -1.2250      0.165     -7.418      0.000      -1.549      -0.901\n",
      "Occupation_Working Professional     2.4731      0.175     14.093      0.000       2.129       2.817\n",
      "===================================================================================================\n"
     ]
    }
   ],
   "source": [
    "# Dropping 'Lead Source_Other sources' due to high p-value\n",
    "col.remove('Lead Source_Other sources')\n",
    "sm_summary(col)"
   ]
  },
  {
   "cell_type": "code",
   "execution_count": 55,
   "metadata": {
    "colab": {
     "base_uri": "https://localhost:8080/"
    },
    "id": "Ticx-vqUEHPu",
    "outputId": "c72f3798-a647-4fbe-c62e-1a31319941ae"
   },
   "outputs": [
    {
     "name": "stdout",
     "output_type": "stream",
     "text": [
      "                 Generalized Linear Model Regression Results                  \n",
      "==============================================================================\n",
      "Dep. Variable:              Converted   No. Observations:                 4585\n",
      "Model:                            GLM   Df Residuals:                     4575\n",
      "Model Family:                Binomial   Df Model:                            9\n",
      "Link Function:                  logit   Scale:                          1.0000\n",
      "Method:                          IRLS   Log-Likelihood:                -2302.1\n",
      "Date:                Mon, 07 Dec 2020   Deviance:                       4604.3\n",
      "Time:                        17:48:11   Pearson chi2:                 5.05e+03\n",
      "No. Iterations:                     6                                         \n",
      "Covariance Type:            nonrobust                                         \n",
      "===================================================================================================\n",
      "                                      coef    std err          z      P>|z|      [0.025      0.975]\n",
      "---------------------------------------------------------------------------------------------------\n",
      "const                              -0.9822      0.072    -13.693      0.000      -1.123      -0.842\n",
      "TotalVisits                         0.2825      0.051      5.526      0.000       0.182       0.383\n",
      "Total Time Spent on Website         1.0769      0.044     24.229      0.000       0.990       1.164\n",
      "Page Views Per Visit               -0.1303      0.056     -2.325      0.020      -0.240      -0.020\n",
      "Lead Origin_Lead Add Form           3.7222      0.181     20.582      0.000       3.368       4.077\n",
      "Lead Source_Google                  0.5374      0.091      5.875      0.000       0.358       0.717\n",
      "Lead Source_Olark Chat              1.5402      0.140     10.978      0.000       1.265       1.815\n",
      "Lead Source_Organic Search          0.2563      0.123      2.086      0.037       0.015       0.497\n",
      "Do Not Email_Yes                   -1.2346      0.165     -7.461      0.000      -1.559      -0.910\n",
      "Occupation_Working Professional     2.4816      0.175     14.169      0.000       2.138       2.825\n",
      "===================================================================================================\n"
     ]
    }
   ],
   "source": [
    "# Dropping 'Lead Source_Reference' due to high p-value\n",
    "col.remove('Lead Source_Reference')\n",
    "sm_summary(col)"
   ]
  },
  {
   "cell_type": "code",
   "execution_count": 56,
   "metadata": {
    "colab": {
     "base_uri": "https://localhost:8080/"
    },
    "id": "uvxHGDQ1EUfu",
    "outputId": "4b9c0c11-aba6-453b-ff8b-b72218895f7b"
   },
   "outputs": [
    {
     "name": "stdout",
     "output_type": "stream",
     "text": [
      "                          Features   VIF\n",
      "0             Page Views Per Visit  2.38\n",
      "1                      TotalVisits  1.99\n",
      "2           Lead Source_Olark Chat  1.40\n",
      "3        Lead Origin_Lead Add Form  1.34\n",
      "4      Total Time Spent on Website  1.24\n",
      "5       Lead Source_Organic Search  1.19\n",
      "6  Occupation_Working Professional  1.14\n",
      "7               Lead Source_Google  1.12\n",
      "8                 Do Not Email_Yes  1.04\n"
     ]
    }
   ],
   "source": [
    "# Check for the VIF values of the feature variables. \n",
    "from statsmodels.stats.outliers_influence import variance_inflation_factor\n",
    "\n",
    "vif = pd.DataFrame()\n",
    "vif['Features'] = col\n",
    "vif['VIF'] = [variance_inflation_factor(X_train[col].values, i) for i in range(X_train[col].shape[1])]\n",
    "vif['VIF'] = round(vif['VIF'], 2)\n",
    "vif = vif.sort_values(by = \"VIF\", ascending = False).reset_index(drop=True)\n",
    "print(vif)"
   ]
  },
  {
   "cell_type": "markdown",
   "metadata": {
    "id": "b_TU8zRETgHR"
   },
   "source": [
    "VIF seems to be normal for above features. Thus, we can proceed to model buliding.\n",
    "\n",
    "**Final FEATURE LIST**\n",
    "\n",
    "1. 'TotalVisits'\n",
    "2. 'Total Time Spent on Website'\n",
    "3. 'Page Views Per Visit'\n",
    "4. 'Lead Origin_Lead Add Form'\n",
    "5. 'Lead Source_Google'\n",
    "6. 'Lead Source_Olark Chat'\n",
    "7. 'Lead Source_Organic Search'\n",
    "8. 'Do Not Email_Yes'\n",
    "9. 'Occupation_Working Professional'"
   ]
  },
  {
   "cell_type": "markdown",
   "metadata": {
    "id": "mJKNojvzZjtY"
   },
   "source": [
    "## **b) Determining optimal threshold for model**"
   ]
  },
  {
   "cell_type": "code",
   "execution_count": 57,
   "metadata": {
    "colab": {
     "base_uri": "https://localhost:8080/"
    },
    "id": "RUul0aLqZztG",
    "outputId": "08289837-8914-4f25-f2f8-398a2c5b739c"
   },
   "outputs": [
    {
     "name": "stdout",
     "output_type": "stream",
     "text": [
      "                 Generalized Linear Model Regression Results                  \n",
      "==============================================================================\n",
      "Dep. Variable:              Converted   No. Observations:                 4585\n",
      "Model:                            GLM   Df Residuals:                     4575\n",
      "Model Family:                Binomial   Df Model:                            9\n",
      "Link Function:                  logit   Scale:                          1.0000\n",
      "Method:                          IRLS   Log-Likelihood:                -2302.1\n",
      "Date:                Mon, 07 Dec 2020   Deviance:                       4604.3\n",
      "Time:                        17:48:11   Pearson chi2:                 5.05e+03\n",
      "No. Iterations:                     6                                         \n",
      "Covariance Type:            nonrobust                                         \n",
      "===================================================================================================\n",
      "                                      coef    std err          z      P>|z|      [0.025      0.975]\n",
      "---------------------------------------------------------------------------------------------------\n",
      "const                              -0.9822      0.072    -13.693      0.000      -1.123      -0.842\n",
      "TotalVisits                         0.2825      0.051      5.526      0.000       0.182       0.383\n",
      "Total Time Spent on Website         1.0769      0.044     24.229      0.000       0.990       1.164\n",
      "Page Views Per Visit               -0.1303      0.056     -2.325      0.020      -0.240      -0.020\n",
      "Lead Origin_Lead Add Form           3.7222      0.181     20.582      0.000       3.368       4.077\n",
      "Lead Source_Google                  0.5374      0.091      5.875      0.000       0.358       0.717\n",
      "Lead Source_Olark Chat              1.5402      0.140     10.978      0.000       1.265       1.815\n",
      "Lead Source_Organic Search          0.2563      0.123      2.086      0.037       0.015       0.497\n",
      "Do Not Email_Yes                   -1.2346      0.165     -7.461      0.000      -1.559      -0.910\n",
      "Occupation_Working Professional     2.4816      0.175     14.169      0.000       2.138       2.825\n",
      "===================================================================================================\n"
     ]
    }
   ],
   "source": [
    "# Fitting model on train set\n",
    "X_train_sm = sm.add_constant(X_train[col])\n",
    "logm = sm.GLM(y_train,X_train_sm, family = sm.families.Binomial())\n",
    "res = logm.fit()\n",
    "print(res.summary())"
   ]
  },
  {
   "cell_type": "code",
   "execution_count": 58,
   "metadata": {
    "colab": {
     "base_uri": "https://localhost:8080/",
     "height": 206
    },
    "id": "HnJsBL3TZ5yp",
    "outputId": "a65a9f6a-a527-46f9-9c22-c565875cf8bf"
   },
   "outputs": [
    {
     "data": {
      "text/html": [
       "<div>\n",
       "<style scoped>\n",
       "    .dataframe tbody tr th:only-of-type {\n",
       "        vertical-align: middle;\n",
       "    }\n",
       "\n",
       "    .dataframe tbody tr th {\n",
       "        vertical-align: top;\n",
       "    }\n",
       "\n",
       "    .dataframe thead th {\n",
       "        text-align: right;\n",
       "    }\n",
       "</style>\n",
       "<table border=\"1\" class=\"dataframe\">\n",
       "  <thead>\n",
       "    <tr style=\"text-align: right;\">\n",
       "      <th></th>\n",
       "      <th>y_true</th>\n",
       "      <th>y_probability</th>\n",
       "    </tr>\n",
       "  </thead>\n",
       "  <tbody>\n",
       "    <tr>\n",
       "      <th>0</th>\n",
       "      <td>0</td>\n",
       "      <td>0.418961</td>\n",
       "    </tr>\n",
       "    <tr>\n",
       "      <th>1</th>\n",
       "      <td>0</td>\n",
       "      <td>0.286604</td>\n",
       "    </tr>\n",
       "    <tr>\n",
       "      <th>2</th>\n",
       "      <td>1</td>\n",
       "      <td>0.906591</td>\n",
       "    </tr>\n",
       "    <tr>\n",
       "      <th>3</th>\n",
       "      <td>1</td>\n",
       "      <td>0.351726</td>\n",
       "    </tr>\n",
       "    <tr>\n",
       "      <th>4</th>\n",
       "      <td>1</td>\n",
       "      <td>0.827862</td>\n",
       "    </tr>\n",
       "  </tbody>\n",
       "</table>\n",
       "</div>"
      ],
      "text/plain": [
       "   y_true  y_probability\n",
       "0       0       0.418961\n",
       "1       0       0.286604\n",
       "2       1       0.906591\n",
       "3       1       0.351726\n",
       "4       1       0.827862"
      ]
     },
     "execution_count": 58,
     "metadata": {
      "tags": []
     },
     "output_type": "execute_result"
    }
   ],
   "source": [
    "# Generating prediction probabilities for training set\n",
    "y_train_prob = res.predict(X_train_sm).values.reshape(-1)\n",
    "output_df = pd.DataFrame(data=y_train.tolist(),columns=['y_true'])\n",
    "output_df['y_probability'] = y_train_prob\n",
    "output_df.head()"
   ]
  },
  {
   "cell_type": "code",
   "execution_count": 59,
   "metadata": {
    "colab": {
     "base_uri": "https://localhost:8080/",
     "height": 206
    },
    "id": "SdNxe4pS9chN",
    "outputId": "ce12da0c-ab63-4fbf-f936-47c520bfbddc"
   },
   "outputs": [
    {
     "data": {
      "text/html": [
       "<div>\n",
       "<style scoped>\n",
       "    .dataframe tbody tr th:only-of-type {\n",
       "        vertical-align: middle;\n",
       "    }\n",
       "\n",
       "    .dataframe tbody tr th {\n",
       "        vertical-align: top;\n",
       "    }\n",
       "\n",
       "    .dataframe thead th {\n",
       "        text-align: right;\n",
       "    }\n",
       "</style>\n",
       "<table border=\"1\" class=\"dataframe\">\n",
       "  <thead>\n",
       "    <tr style=\"text-align: right;\">\n",
       "      <th></th>\n",
       "      <th>y_true</th>\n",
       "      <th>y_probability</th>\n",
       "      <th>0.0</th>\n",
       "      <th>0.1</th>\n",
       "      <th>0.2</th>\n",
       "      <th>0.3</th>\n",
       "      <th>0.4</th>\n",
       "      <th>0.5</th>\n",
       "      <th>0.6</th>\n",
       "      <th>0.7</th>\n",
       "      <th>0.8</th>\n",
       "      <th>0.9</th>\n",
       "    </tr>\n",
       "  </thead>\n",
       "  <tbody>\n",
       "    <tr>\n",
       "      <th>0</th>\n",
       "      <td>0</td>\n",
       "      <td>0.418961</td>\n",
       "      <td>1</td>\n",
       "      <td>1</td>\n",
       "      <td>1</td>\n",
       "      <td>1</td>\n",
       "      <td>1</td>\n",
       "      <td>0</td>\n",
       "      <td>0</td>\n",
       "      <td>0</td>\n",
       "      <td>0</td>\n",
       "      <td>0</td>\n",
       "    </tr>\n",
       "    <tr>\n",
       "      <th>1</th>\n",
       "      <td>0</td>\n",
       "      <td>0.286604</td>\n",
       "      <td>1</td>\n",
       "      <td>1</td>\n",
       "      <td>1</td>\n",
       "      <td>0</td>\n",
       "      <td>0</td>\n",
       "      <td>0</td>\n",
       "      <td>0</td>\n",
       "      <td>0</td>\n",
       "      <td>0</td>\n",
       "      <td>0</td>\n",
       "    </tr>\n",
       "    <tr>\n",
       "      <th>2</th>\n",
       "      <td>1</td>\n",
       "      <td>0.906591</td>\n",
       "      <td>1</td>\n",
       "      <td>1</td>\n",
       "      <td>1</td>\n",
       "      <td>1</td>\n",
       "      <td>1</td>\n",
       "      <td>1</td>\n",
       "      <td>1</td>\n",
       "      <td>1</td>\n",
       "      <td>1</td>\n",
       "      <td>1</td>\n",
       "    </tr>\n",
       "    <tr>\n",
       "      <th>3</th>\n",
       "      <td>1</td>\n",
       "      <td>0.351726</td>\n",
       "      <td>1</td>\n",
       "      <td>1</td>\n",
       "      <td>1</td>\n",
       "      <td>1</td>\n",
       "      <td>0</td>\n",
       "      <td>0</td>\n",
       "      <td>0</td>\n",
       "      <td>0</td>\n",
       "      <td>0</td>\n",
       "      <td>0</td>\n",
       "    </tr>\n",
       "    <tr>\n",
       "      <th>4</th>\n",
       "      <td>1</td>\n",
       "      <td>0.827862</td>\n",
       "      <td>1</td>\n",
       "      <td>1</td>\n",
       "      <td>1</td>\n",
       "      <td>1</td>\n",
       "      <td>1</td>\n",
       "      <td>1</td>\n",
       "      <td>1</td>\n",
       "      <td>1</td>\n",
       "      <td>1</td>\n",
       "      <td>0</td>\n",
       "    </tr>\n",
       "  </tbody>\n",
       "</table>\n",
       "</div>"
      ],
      "text/plain": [
       "   y_true  y_probability  0.0  0.1  0.2  0.3  0.4  0.5  0.6  0.7  0.8  0.9\n",
       "0       0       0.418961    1    1    1    1    1    0    0    0    0    0\n",
       "1       0       0.286604    1    1    1    0    0    0    0    0    0    0\n",
       "2       1       0.906591    1    1    1    1    1    1    1    1    1    1\n",
       "3       1       0.351726    1    1    1    1    0    0    0    0    0    0\n",
       "4       1       0.827862    1    1    1    1    1    1    1    1    1    0"
      ]
     },
     "execution_count": 59,
     "metadata": {
      "tags": []
     },
     "output_type": "execute_result"
    }
   ],
   "source": [
    "# Generating predictions for \"training set\" by varing threshold\n",
    "numbers = [float(x)/10 for x in range(10)]\n",
    "for i in numbers:\n",
    "    output_df[i]= output_df['y_probability'].map(lambda x: 1 if x > i else 0)\n",
    "output_df.head()"
   ]
  },
  {
   "cell_type": "code",
   "execution_count": 60,
   "metadata": {
    "colab": {
     "base_uri": "https://localhost:8080/"
    },
    "id": "rU3S7hNeZ8kb",
    "outputId": "2a89a3b7-cce2-4220-b1f9-87463f4084c1"
   },
   "outputs": [
    {
     "name": "stdout",
     "output_type": "stream",
     "text": [
      "   Threshold  Accuracy  Sensitivity  Specificity\n",
      "0        0.0  0.481352     1.000000     0.000000\n",
      "1        0.1  0.514504     0.998188     0.065601\n",
      "2        0.2  0.635987     0.948799     0.345669\n",
      "3        0.3  0.729335     0.892614     0.577796\n",
      "4        0.4  0.771210     0.761214     0.780488\n",
      "5        0.5  0.764449     0.698233     0.825904\n",
      "6        0.6  0.747874     0.623018     0.863751\n",
      "7        0.7  0.717775     0.518351     0.902860\n",
      "8        0.8  0.683097     0.403715     0.942389\n",
      "9        0.9  0.609160     0.201178     0.987805\n"
     ]
    }
   ],
   "source": [
    "# Calculate accuracy, sensitivity and specificity for various probability cutoffs.\n",
    "cutoff_df = pd.DataFrame( columns = ['Threshold','Accuracy','Sensitivity','Specificity'])\n",
    "from sklearn.metrics import confusion_matrix\n",
    "\n",
    "num = [0.0,0.1,0.2,0.3,0.4,0.5,0.6,0.7,0.8,0.9]\n",
    "for i in num:\n",
    "    cm = confusion_matrix(output_df['y_true'], output_df[i])\n",
    "    total=sum(sum(cm))\n",
    "    accuracy = (cm[0,0]+cm[1,1])/total\n",
    "    TP = cm[1,1] # true positive \n",
    "    TN = cm[0,0] # true negatives\n",
    "    FP = cm[0,1] # false positives\n",
    "    FN = cm[1,0] # false negatives\n",
    "    speci = cm[0,0]/(cm[0,0]+cm[0,1])\n",
    "    sensi = cm[1,1]/(cm[1,0]+cm[1,1])\n",
    "    cutoff_df.loc[int(i*10)] =[ i ,accuracy,sensi,speci]\n",
    "print(cutoff_df)"
   ]
  },
  {
   "cell_type": "code",
   "execution_count": 61,
   "metadata": {
    "colab": {
     "base_uri": "https://localhost:8080/",
     "height": 279
    },
    "id": "5kQ2CX_gaJoZ",
    "outputId": "369d3d76-1a09-420f-df4a-6b1e6d88588f"
   },
   "outputs": [
    {
     "data": {
      "image/png": "[encoded data removed]",
      "text/plain": [
       "<Figure size 432x288 with 1 Axes>"
      ]
     },
     "metadata": {
      "needs_background": "light",
      "tags": []
     },
     "output_type": "display_data"
    }
   ],
   "source": [
    "# Plotting 'Accuracy','Sensitivity','Specificity' against 'Threshold'\n",
    "cutoff_df.plot.line(x='Threshold', y=['Accuracy','Sensitivity','Specificity'])\n",
    "plt.show()"
   ]
  },
  {
   "cell_type": "markdown",
   "metadata": {
    "id": "2jvJYZS5PjOP"
   },
   "source": [
    "**Based on above plot, optimal threshold seems to be around 0.4. Therefore, considering a sub-optimal threshold i.e. 0.36 for better business understanding is also fine.**"
   ]
  },
  {
   "cell_type": "code",
   "execution_count": 62,
   "metadata": {
    "colab": {
     "base_uri": "https://localhost:8080/",
     "height": 206
    },
    "id": "hnO1Z2IhaKTy",
    "outputId": "6316d8fa-dd90-4cb0-8afc-660b5e1c1787"
   },
   "outputs": [
    {
     "data": {
      "text/html": [
       "<div>\n",
       "<style scoped>\n",
       "    .dataframe tbody tr th:only-of-type {\n",
       "        vertical-align: middle;\n",
       "    }\n",
       "\n",
       "    .dataframe tbody tr th {\n",
       "        vertical-align: top;\n",
       "    }\n",
       "\n",
       "    .dataframe thead th {\n",
       "        text-align: right;\n",
       "    }\n",
       "</style>\n",
       "<table border=\"1\" class=\"dataframe\">\n",
       "  <thead>\n",
       "    <tr style=\"text-align: right;\">\n",
       "      <th></th>\n",
       "      <th>y_true</th>\n",
       "      <th>y_probability</th>\n",
       "      <th>0.0</th>\n",
       "      <th>0.1</th>\n",
       "      <th>0.2</th>\n",
       "      <th>0.3</th>\n",
       "      <th>0.4</th>\n",
       "      <th>0.5</th>\n",
       "      <th>0.6</th>\n",
       "      <th>0.7</th>\n",
       "      <th>0.8</th>\n",
       "      <th>0.9</th>\n",
       "      <th>final_predicted</th>\n",
       "    </tr>\n",
       "  </thead>\n",
       "  <tbody>\n",
       "    <tr>\n",
       "      <th>0</th>\n",
       "      <td>0</td>\n",
       "      <td>0.418961</td>\n",
       "      <td>1</td>\n",
       "      <td>1</td>\n",
       "      <td>1</td>\n",
       "      <td>1</td>\n",
       "      <td>1</td>\n",
       "      <td>0</td>\n",
       "      <td>0</td>\n",
       "      <td>0</td>\n",
       "      <td>0</td>\n",
       "      <td>0</td>\n",
       "      <td>1</td>\n",
       "    </tr>\n",
       "    <tr>\n",
       "      <th>1</th>\n",
       "      <td>0</td>\n",
       "      <td>0.286604</td>\n",
       "      <td>1</td>\n",
       "      <td>1</td>\n",
       "      <td>1</td>\n",
       "      <td>0</td>\n",
       "      <td>0</td>\n",
       "      <td>0</td>\n",
       "      <td>0</td>\n",
       "      <td>0</td>\n",
       "      <td>0</td>\n",
       "      <td>0</td>\n",
       "      <td>0</td>\n",
       "    </tr>\n",
       "    <tr>\n",
       "      <th>2</th>\n",
       "      <td>1</td>\n",
       "      <td>0.906591</td>\n",
       "      <td>1</td>\n",
       "      <td>1</td>\n",
       "      <td>1</td>\n",
       "      <td>1</td>\n",
       "      <td>1</td>\n",
       "      <td>1</td>\n",
       "      <td>1</td>\n",
       "      <td>1</td>\n",
       "      <td>1</td>\n",
       "      <td>1</td>\n",
       "      <td>1</td>\n",
       "    </tr>\n",
       "    <tr>\n",
       "      <th>3</th>\n",
       "      <td>1</td>\n",
       "      <td>0.351726</td>\n",
       "      <td>1</td>\n",
       "      <td>1</td>\n",
       "      <td>1</td>\n",
       "      <td>1</td>\n",
       "      <td>0</td>\n",
       "      <td>0</td>\n",
       "      <td>0</td>\n",
       "      <td>0</td>\n",
       "      <td>0</td>\n",
       "      <td>0</td>\n",
       "      <td>0</td>\n",
       "    </tr>\n",
       "    <tr>\n",
       "      <th>4</th>\n",
       "      <td>1</td>\n",
       "      <td>0.827862</td>\n",
       "      <td>1</td>\n",
       "      <td>1</td>\n",
       "      <td>1</td>\n",
       "      <td>1</td>\n",
       "      <td>1</td>\n",
       "      <td>1</td>\n",
       "      <td>1</td>\n",
       "      <td>1</td>\n",
       "      <td>1</td>\n",
       "      <td>0</td>\n",
       "      <td>1</td>\n",
       "    </tr>\n",
       "  </tbody>\n",
       "</table>\n",
       "</div>"
      ],
      "text/plain": [
       "   y_true  y_probability  0.0  0.1  0.2  0.3  0.4  0.5  0.6  0.7  0.8  0.9  \\\n",
       "0       0       0.418961    1    1    1    1    1    0    0    0    0    0   \n",
       "1       0       0.286604    1    1    1    0    0    0    0    0    0    0   \n",
       "2       1       0.906591    1    1    1    1    1    1    1    1    1    1   \n",
       "3       1       0.351726    1    1    1    1    0    0    0    0    0    0   \n",
       "4       1       0.827862    1    1    1    1    1    1    1    1    1    0   \n",
       "\n",
       "   final_predicted  \n",
       "0                1  \n",
       "1                0  \n",
       "2                1  \n",
       "3                0  \n",
       "4                1  "
      ]
     },
     "execution_count": 62,
     "metadata": {
      "tags": []
     },
     "output_type": "execute_result"
    }
   ],
   "source": [
    "# Generating predictions for \"train set\" using \"0.36\" as threshold\n",
    "output_df['final_predicted'] = output_df['y_probability'].map(lambda x: 1 if x > 0.36 else 0)\n",
    "output_df.head()"
   ]
  },
  {
   "cell_type": "code",
   "execution_count": 63,
   "metadata": {
    "colab": {
     "base_uri": "https://localhost:8080/"
    },
    "id": "yxKx5v7QaN3P",
    "outputId": "3306ff47-e172-4794-9f6c-3f1d9a04c1ec"
   },
   "outputs": [
    {
     "name": "stdout",
     "output_type": "stream",
     "text": [
      "** TRAINING - EVALUATION METRICS **\n",
      "Confusion Matrix : \n",
      " [[1810  568]\n",
      " [ 490 1717]] \n",
      "\n",
      " Accuracy: 0.77\n",
      " Recall: 0.78\n",
      " Precision: 0.75\n"
     ]
    }
   ],
   "source": [
    "# Evaluation metrics for \"training set\"\n",
    "from sklearn.metrics import confusion_matrix, accuracy_score, recall_score, precision_score\n",
    "confusion = confusion_matrix(output_df['y_true'], output_df['final_predicted'])\n",
    "acc = round(accuracy_score(output_df['y_true'], output_df['final_predicted']),2)\n",
    "recall = round(recall_score(output_df['y_true'], output_df['final_predicted']),2)\n",
    "prec = round(precision_score(output_df['y_true'], output_df['final_predicted']),2)\n",
    "\n",
    "print(\"** TRAINING - EVALUATION METRICS **\")\n",
    "print(\"Confusion Matrix : \\n\",confusion,\"\\n\")\n",
    "print(f\" Accuracy: {acc}\\n Recall: {recall}\\n Precision: {prec}\")"
   ]
  },
  {
   "cell_type": "code",
   "execution_count": 64,
   "metadata": {
    "colab": {
     "base_uri": "https://localhost:8080/",
     "height": 297
    },
    "id": "uw1BDa99HN-H",
    "outputId": "da6b87fe-c791-4bd3-f76e-f0d665b6efd8"
   },
   "outputs": [
    {
     "data": {
      "text/plain": [
       "<sklearn.metrics._plot.roc_curve.RocCurveDisplay at 0x7fae8dcb9ba8>"
      ]
     },
     "execution_count": 64,
     "metadata": {
      "tags": []
     },
     "output_type": "execute_result"
    },
    {
     "data": {
      "image/png": "[encoded data removed]",
      "text/plain": [
       "<Figure size 432x288 with 1 Axes>"
      ]
     },
     "metadata": {
      "needs_background": "light",
      "tags": []
     },
     "output_type": "display_data"
    }
   ],
   "source": [
    "# Plotting ROC curve for \"Train set\"\n",
    "from sklearn.metrics import plot_roc_curve\n",
    "from sklearn.linear_model import LogisticRegression\n",
    "\n",
    "lr = LogisticRegression()\n",
    "lr.fit(X_train[col],y_train)\n",
    "plot_roc_curve(lr,X_train[col],y_train)"
   ]
  },
  {
   "cell_type": "markdown",
   "metadata": {
    "id": "E-7bJjRRZ3Sf"
   },
   "source": [
    "## **c) Evaluating model on test data**"
   ]
  },
  {
   "cell_type": "code",
   "execution_count": 65,
   "metadata": {
    "colab": {
     "base_uri": "https://localhost:8080/",
     "height": 206
    },
    "id": "EZyVpnnXZx0s",
    "outputId": "aa49f54d-7c6c-4265-fe83-885c147d4b41"
   },
   "outputs": [
    {
     "data": {
      "text/html": [
       "<div>\n",
       "<style scoped>\n",
       "    .dataframe tbody tr th:only-of-type {\n",
       "        vertical-align: middle;\n",
       "    }\n",
       "\n",
       "    .dataframe tbody tr th {\n",
       "        vertical-align: top;\n",
       "    }\n",
       "\n",
       "    .dataframe thead th {\n",
       "        text-align: right;\n",
       "    }\n",
       "</style>\n",
       "<table border=\"1\" class=\"dataframe\">\n",
       "  <thead>\n",
       "    <tr style=\"text-align: right;\">\n",
       "      <th></th>\n",
       "      <th>y_test_true</th>\n",
       "      <th>y_probability</th>\n",
       "    </tr>\n",
       "  </thead>\n",
       "  <tbody>\n",
       "    <tr>\n",
       "      <th>0</th>\n",
       "      <td>0</td>\n",
       "      <td>0.254288</td>\n",
       "    </tr>\n",
       "    <tr>\n",
       "      <th>1</th>\n",
       "      <td>0</td>\n",
       "      <td>0.055191</td>\n",
       "    </tr>\n",
       "    <tr>\n",
       "      <th>2</th>\n",
       "      <td>0</td>\n",
       "      <td>0.242197</td>\n",
       "    </tr>\n",
       "    <tr>\n",
       "      <th>3</th>\n",
       "      <td>0</td>\n",
       "      <td>0.247663</td>\n",
       "    </tr>\n",
       "    <tr>\n",
       "      <th>4</th>\n",
       "      <td>1</td>\n",
       "      <td>0.688162</td>\n",
       "    </tr>\n",
       "  </tbody>\n",
       "</table>\n",
       "</div>"
      ],
      "text/plain": [
       "   y_test_true  y_probability\n",
       "0            0       0.254288\n",
       "1            0       0.055191\n",
       "2            0       0.242197\n",
       "3            0       0.247663\n",
       "4            1       0.688162"
      ]
     },
     "execution_count": 65,
     "metadata": {
      "tags": []
     },
     "output_type": "execute_result"
    }
   ],
   "source": [
    "# Scaling \"test set\"\n",
    "num_cols = ['TotalVisits','Total Time Spent on Website','Page Views Per Visit']\n",
    "X_test[num_cols] = scaler.transform(X_test[num_cols])\n",
    "\n",
    "# Generating prediction probabilities for \"test set\"\n",
    "X_test_sm = sm.add_constant(X_test[col])\n",
    "y_test_prob = res.predict(X_test_sm).values.reshape(-1)\n",
    "\n",
    "results = pd.DataFrame(data=y_test.tolist(),columns=['y_test_true'])\n",
    "results['y_probability'] = y_test_prob\n",
    "results.head()"
   ]
  },
  {
   "cell_type": "code",
   "execution_count": 66,
   "metadata": {
    "colab": {
     "base_uri": "https://localhost:8080/",
     "height": 206
    },
    "id": "H8UicbXuk0io",
    "outputId": "5357877b-2410-4084-87d8-9713beed7e86"
   },
   "outputs": [
    {
     "data": {
      "text/html": [
       "<div>\n",
       "<style scoped>\n",
       "    .dataframe tbody tr th:only-of-type {\n",
       "        vertical-align: middle;\n",
       "    }\n",
       "\n",
       "    .dataframe tbody tr th {\n",
       "        vertical-align: top;\n",
       "    }\n",
       "\n",
       "    .dataframe thead th {\n",
       "        text-align: right;\n",
       "    }\n",
       "</style>\n",
       "<table border=\"1\" class=\"dataframe\">\n",
       "  <thead>\n",
       "    <tr style=\"text-align: right;\">\n",
       "      <th></th>\n",
       "      <th>y_test_true</th>\n",
       "      <th>y_probability</th>\n",
       "      <th>y_test_pred</th>\n",
       "    </tr>\n",
       "  </thead>\n",
       "  <tbody>\n",
       "    <tr>\n",
       "      <th>0</th>\n",
       "      <td>0</td>\n",
       "      <td>0.254288</td>\n",
       "      <td>0</td>\n",
       "    </tr>\n",
       "    <tr>\n",
       "      <th>1</th>\n",
       "      <td>0</td>\n",
       "      <td>0.055191</td>\n",
       "      <td>0</td>\n",
       "    </tr>\n",
       "    <tr>\n",
       "      <th>2</th>\n",
       "      <td>0</td>\n",
       "      <td>0.242197</td>\n",
       "      <td>0</td>\n",
       "    </tr>\n",
       "    <tr>\n",
       "      <th>3</th>\n",
       "      <td>0</td>\n",
       "      <td>0.247663</td>\n",
       "      <td>0</td>\n",
       "    </tr>\n",
       "    <tr>\n",
       "      <th>4</th>\n",
       "      <td>1</td>\n",
       "      <td>0.688162</td>\n",
       "      <td>1</td>\n",
       "    </tr>\n",
       "  </tbody>\n",
       "</table>\n",
       "</div>"
      ],
      "text/plain": [
       "   y_test_true  y_probability  y_test_pred\n",
       "0            0       0.254288            0\n",
       "1            0       0.055191            0\n",
       "2            0       0.242197            0\n",
       "3            0       0.247663            0\n",
       "4            1       0.688162            1"
      ]
     },
     "execution_count": 66,
     "metadata": {
      "tags": []
     },
     "output_type": "execute_result"
    }
   ],
   "source": [
    "# Performing predictions concidering 0.36 (i.e sub-optimal point) as threshold \n",
    "results['y_test_pred']= results['y_probability'].map(lambda x: 1 if x > 0.36 else 0)\n",
    "results.head()"
   ]
  },
  {
   "cell_type": "code",
   "execution_count": 67,
   "metadata": {
    "colab": {
     "base_uri": "https://localhost:8080/"
    },
    "id": "HHvv3zvJllOt",
    "outputId": "b0f86d91-40b7-4a64-8a1a-e712b3c56e9a"
   },
   "outputs": [
    {
     "name": "stdout",
     "output_type": "stream",
     "text": [
      "** TEST - EVALUATION METRICS **\n",
      "Confusion Matrix : \n",
      " [[762 219]\n",
      " [225 759]] \n",
      "\n",
      " Accuracy: 0.77\n",
      " Recall: 0.77\n",
      " Precision: 0.78\n"
     ]
    }
   ],
   "source": [
    "# Evaluation metrics for \"training set\"\n",
    "from sklearn.metrics import confusion_matrix, accuracy_score, recall_score, precision_score\n",
    "confusion_test = confusion_matrix(results['y_test_true'], results['y_test_pred'])\n",
    "acc_test = round(accuracy_score(results['y_test_true'], results['y_test_pred']),2)\n",
    "recall_test = round(recall_score(results['y_test_true'], results['y_test_pred']),2)\n",
    "prec_test = round(precision_score(results['y_test_true'], results['y_test_pred']),2)\n",
    "\n",
    "print(\"** TEST - EVALUATION METRICS **\")\n",
    "print(\"Confusion Matrix : \\n\",confusion_test,\"\\n\")\n",
    "print(f\" Accuracy: {acc_test}\\n Recall: {recall_test}\\n Precision: {prec_test}\")"
   ]
  },
  {
   "cell_type": "code",
   "execution_count": 68,
   "metadata": {
    "colab": {
     "base_uri": "https://localhost:8080/",
     "height": 297
    },
    "id": "mViQtsWLFZ6A",
    "outputId": "d598da34-8fe5-4cf0-ddec-c4d71555c713"
   },
   "outputs": [
    {
     "data": {
      "text/plain": [
       "<sklearn.metrics._plot.roc_curve.RocCurveDisplay at 0x7fae8dc95438>"
      ]
     },
     "execution_count": 68,
     "metadata": {
      "tags": []
     },
     "output_type": "execute_result"
    },
    {
     "data": {
      "image/png": "[encoded data removed]",
      "text/plain": [
       "<Figure size 432x288 with 1 Axes>"
      ]
     },
     "metadata": {
      "needs_background": "light",
      "tags": []
     },
     "output_type": "display_data"
    }
   ],
   "source": [
    "# Plotting ROC curve for \"Test set\"\n",
    "from sklearn.metrics import plot_roc_curve\n",
    "from sklearn.linear_model import LogisticRegression\n",
    "\n",
    "lr = LogisticRegression()\n",
    "lr.fit(X_train[col],y_train)\n",
    "plot_roc_curve(lr,X_test[col],y_test)"
   ]
  },
  {
   "cell_type": "markdown",
   "metadata": {
    "id": "8cUL1_31rwNR"
   },
   "source": [
    "**Based on above metrics, it can be concluded that the model is able to genralize. As the metrics are quite similar for train as well as train set.**"
   ]
  },
  {
   "cell_type": "markdown",
   "metadata": {
    "id": "TlTCuSUEaT_t"
   },
   "source": [
    "## **d) Generating score variable**"
   ]
  },
  {
   "cell_type": "code",
   "execution_count": 69,
   "metadata": {
    "colab": {
     "base_uri": "https://localhost:8080/",
     "height": 206
    },
    "id": "nYdK7neeAnSO",
    "outputId": "139d5747-9336-44ac-975b-5b61cc8cdb6f"
   },
   "outputs": [
    {
     "data": {
      "text/html": [
       "<div>\n",
       "<style scoped>\n",
       "    .dataframe tbody tr th:only-of-type {\n",
       "        vertical-align: middle;\n",
       "    }\n",
       "\n",
       "    .dataframe tbody tr th {\n",
       "        vertical-align: top;\n",
       "    }\n",
       "\n",
       "    .dataframe thead th {\n",
       "        text-align: right;\n",
       "    }\n",
       "</style>\n",
       "<table border=\"1\" class=\"dataframe\">\n",
       "  <thead>\n",
       "    <tr style=\"text-align: right;\">\n",
       "      <th></th>\n",
       "      <th>y_test_true</th>\n",
       "      <th>y_probability</th>\n",
       "      <th>y_test_pred</th>\n",
       "    </tr>\n",
       "  </thead>\n",
       "  <tbody>\n",
       "    <tr>\n",
       "      <th>0</th>\n",
       "      <td>0</td>\n",
       "      <td>0.254288</td>\n",
       "      <td>0</td>\n",
       "    </tr>\n",
       "    <tr>\n",
       "      <th>1</th>\n",
       "      <td>0</td>\n",
       "      <td>0.055191</td>\n",
       "      <td>0</td>\n",
       "    </tr>\n",
       "    <tr>\n",
       "      <th>2</th>\n",
       "      <td>0</td>\n",
       "      <td>0.242197</td>\n",
       "      <td>0</td>\n",
       "    </tr>\n",
       "    <tr>\n",
       "      <th>3</th>\n",
       "      <td>0</td>\n",
       "      <td>0.247663</td>\n",
       "      <td>0</td>\n",
       "    </tr>\n",
       "    <tr>\n",
       "      <th>4</th>\n",
       "      <td>1</td>\n",
       "      <td>0.688162</td>\n",
       "      <td>1</td>\n",
       "    </tr>\n",
       "  </tbody>\n",
       "</table>\n",
       "</div>"
      ],
      "text/plain": [
       "   y_test_true  y_probability  y_test_pred\n",
       "0            0       0.254288            0\n",
       "1            0       0.055191            0\n",
       "2            0       0.242197            0\n",
       "3            0       0.247663            0\n",
       "4            1       0.688162            1"
      ]
     },
     "execution_count": 69,
     "metadata": {
      "tags": []
     },
     "output_type": "execute_result"
    }
   ],
   "source": [
    "results.head()"
   ]
  },
  {
   "cell_type": "code",
   "execution_count": 70,
   "metadata": {
    "colab": {
     "base_uri": "https://localhost:8080/",
     "height": 296
    },
    "id": "6pVGRvNxHnzK",
    "outputId": "5a0a49bb-eee3-463f-9e68-90679b924ff9"
   },
   "outputs": [
    {
     "data": {
      "text/html": [
       "<div>\n",
       "<style scoped>\n",
       "    .dataframe tbody tr th:only-of-type {\n",
       "        vertical-align: middle;\n",
       "    }\n",
       "\n",
       "    .dataframe tbody tr th {\n",
       "        vertical-align: top;\n",
       "    }\n",
       "\n",
       "    .dataframe thead th {\n",
       "        text-align: right;\n",
       "    }\n",
       "</style>\n",
       "<table border=\"1\" class=\"dataframe\">\n",
       "  <thead>\n",
       "    <tr style=\"text-align: right;\">\n",
       "      <th></th>\n",
       "      <th>TotalVisits</th>\n",
       "      <th>Total Time Spent on Website</th>\n",
       "      <th>Page Views Per Visit</th>\n",
       "      <th>Lead Origin_Lead Add Form</th>\n",
       "      <th>Lead Source_Google</th>\n",
       "      <th>Lead Source_Olark Chat</th>\n",
       "      <th>Lead Source_Organic Search</th>\n",
       "      <th>Do Not Email_Yes</th>\n",
       "      <th>Occupation_Working Professional</th>\n",
       "      <th>y_test_true</th>\n",
       "      <th>y_probability</th>\n",
       "      <th>y_test_pred</th>\n",
       "      <th>Lead_Score</th>\n",
       "    </tr>\n",
       "  </thead>\n",
       "  <tbody>\n",
       "    <tr>\n",
       "      <th>0</th>\n",
       "      <td>-0.144791</td>\n",
       "      <td>-0.512016</td>\n",
       "      <td>0.298365</td>\n",
       "      <td>0</td>\n",
       "      <td>1</td>\n",
       "      <td>0</td>\n",
       "      <td>0</td>\n",
       "      <td>0</td>\n",
       "      <td>0</td>\n",
       "      <td>0</td>\n",
       "      <td>0.254288</td>\n",
       "      <td>0</td>\n",
       "      <td>25.428788</td>\n",
       "    </tr>\n",
       "    <tr>\n",
       "      <th>1</th>\n",
       "      <td>-0.452136</td>\n",
       "      <td>-0.548637</td>\n",
       "      <td>-0.729371</td>\n",
       "      <td>0</td>\n",
       "      <td>0</td>\n",
       "      <td>0</td>\n",
       "      <td>0</td>\n",
       "      <td>1</td>\n",
       "      <td>0</td>\n",
       "      <td>0</td>\n",
       "      <td>0.055191</td>\n",
       "      <td>0</td>\n",
       "      <td>5.519120</td>\n",
       "    </tr>\n",
       "    <tr>\n",
       "      <th>2</th>\n",
       "      <td>0.777246</td>\n",
       "      <td>-0.646291</td>\n",
       "      <td>-0.472437</td>\n",
       "      <td>0</td>\n",
       "      <td>0</td>\n",
       "      <td>0</td>\n",
       "      <td>1</td>\n",
       "      <td>0</td>\n",
       "      <td>0</td>\n",
       "      <td>0</td>\n",
       "      <td>0.242197</td>\n",
       "      <td>0</td>\n",
       "      <td>24.219744</td>\n",
       "    </tr>\n",
       "    <tr>\n",
       "      <th>3</th>\n",
       "      <td>2.621319</td>\n",
       "      <td>-0.709069</td>\n",
       "      <td>0.812233</td>\n",
       "      <td>0</td>\n",
       "      <td>0</td>\n",
       "      <td>0</td>\n",
       "      <td>0</td>\n",
       "      <td>0</td>\n",
       "      <td>0</td>\n",
       "      <td>0</td>\n",
       "      <td>0.247663</td>\n",
       "      <td>0</td>\n",
       "      <td>24.766258</td>\n",
       "    </tr>\n",
       "    <tr>\n",
       "      <th>4</th>\n",
       "      <td>-0.452136</td>\n",
       "      <td>1.240536</td>\n",
       "      <td>-0.215503</td>\n",
       "      <td>0</td>\n",
       "      <td>1</td>\n",
       "      <td>0</td>\n",
       "      <td>0</td>\n",
       "      <td>0</td>\n",
       "      <td>0</td>\n",
       "      <td>1</td>\n",
       "      <td>0.688162</td>\n",
       "      <td>1</td>\n",
       "      <td>68.816218</td>\n",
       "    </tr>\n",
       "  </tbody>\n",
       "</table>\n",
       "</div>"
      ],
      "text/plain": [
       "   TotalVisits  Total Time Spent on Website  Page Views Per Visit  \\\n",
       "0    -0.144791                    -0.512016              0.298365   \n",
       "1    -0.452136                    -0.548637             -0.729371   \n",
       "2     0.777246                    -0.646291             -0.472437   \n",
       "3     2.621319                    -0.709069              0.812233   \n",
       "4    -0.452136                     1.240536             -0.215503   \n",
       "\n",
       "   Lead Origin_Lead Add Form  Lead Source_Google  Lead Source_Olark Chat  \\\n",
       "0                          0                   1                       0   \n",
       "1                          0                   0                       0   \n",
       "2                          0                   0                       0   \n",
       "3                          0                   0                       0   \n",
       "4                          0                   1                       0   \n",
       "\n",
       "   Lead Source_Organic Search  Do Not Email_Yes  \\\n",
       "0                           0                 0   \n",
       "1                           0                 1   \n",
       "2                           1                 0   \n",
       "3                           0                 0   \n",
       "4                           0                 0   \n",
       "\n",
       "   Occupation_Working Professional  y_test_true  y_probability  y_test_pred  \\\n",
       "0                                0            0       0.254288            0   \n",
       "1                                0            0       0.055191            0   \n",
       "2                                0            0       0.242197            0   \n",
       "3                                0            0       0.247663            0   \n",
       "4                                0            1       0.688162            1   \n",
       "\n",
       "   Lead_Score  \n",
       "0   25.428788  \n",
       "1    5.519120  \n",
       "2   24.219744  \n",
       "3   24.766258  \n",
       "4   68.816218  "
      ]
     },
     "execution_count": 70,
     "metadata": {
      "tags": []
     },
     "output_type": "execute_result"
    }
   ],
   "source": [
    "# Assigning lead score to \"test set\"\n",
    "results['Lead_Score'] = 100 * results['y_probability']\n",
    "\n",
    "# Concatenating attributes to result dataframe\n",
    "results = pd.concat([X_test[col].reset_index(drop=True),results],axis=1)\n",
    "results.head()"
   ]
  },
  {
   "cell_type": "code",
   "execution_count": 71,
   "metadata": {
    "colab": {
     "base_uri": "https://localhost:8080/",
     "height": 297
    },
    "id": "XahFcyw_JU_0",
    "outputId": "1f668f43-f72b-4d28-c8ac-4f4022d603c3"
   },
   "outputs": [
    {
     "data": {
      "text/plain": [
       "<matplotlib.axes._subplots.AxesSubplot at 0x7fae8dc4e0f0>"
      ]
     },
     "execution_count": 71,
     "metadata": {
      "tags": []
     },
     "output_type": "execute_result"
    },
    {
     "data": {
      "image/png": "[encoded data removed]",
      "text/plain": [
       "<Figure size 432x288 with 1 Axes>"
      ]
     },
     "metadata": {
      "needs_background": "light",
      "tags": []
     },
     "output_type": "display_data"
    }
   ],
   "source": [
    "# Distribution of lead score between 0 and 100\n",
    "sns.distplot(results['Lead_Score'])"
   ]
  }
 ],
 "metadata": {
  "accelerator": "GPU",
  "colab": {
   "collapsed_sections": [
    "ugJv9PB4radJ",
    "Vj_EvOFjzhX1",
    "lbUCLHucVQIn",
    "N3CgmZiCVf2l",
    "5YmQxnxKzsHG",
    "TxB4dZy7V2il",
    "9nI7wIZ0vldu",
    "VCiId-9jW6pp",
    "2wLu4_dSWKwu",
    "MkBjLfzeX_UE",
    "kRhZ1k8jibT2",
    "NRe0g1n-xKXG",
    "Z_KsZ-2AYHN3",
    "UNt2ayMIBcIv",
    "c_B3y4zyOyH1",
    "o4VDoR93JYiU",
    "VajCABlaOV_A",
    "OheyqN7wOjmc",
    "LHx20FzxPg4D",
    "M6m7q2moYR2H",
    "pCJ8ZwwnYdZo",
    "bf0tZ4OzY3kY",
    "s6Vi1WaYZLSn",
    "9oKepI8oZRvV",
    "IewUhUmaZaDe",
    "CkpNc4ku-dn-",
    "mJKNojvzZjtY",
    "E-7bJjRRZ3Sf",
    "TlTCuSUEaT_t"
   ],
   "name": "Lead_Scoring_Case_Study.ipynb",
   "provenance": []
  },
  "kernelspec": {
   "display_name": "Python 3",
   "language": "python",
   "name": "python3"
  },
  "language_info": {
   "codemirror_mode": {
    "name": "ipython",
    "version": 3
   },
   "file_extension": ".py",
   "mimetype": "text/x-python",
   "name": "python",
   "nbconvert_exporter": "python",
   "pygments_lexer": "ipython3",
   "version": "3.8.8"
  }
 },
 "nbformat": 4,
 "nbformat_minor": 1
}
